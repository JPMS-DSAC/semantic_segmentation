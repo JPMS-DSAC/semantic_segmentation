{
  "nbformat": 4,
  "nbformat_minor": 0,
  "metadata": {
    "colab": {
      "name": "left_right_context_sent_model_untuned.ipynb",
      "provenance": [],
      "collapsed_sections": [],
      "mount_file_id": "1YDqwT_fKQ8_RBdDmCGN1Oo5yofL3M0jE",
      "authorship_tag": "ABX9TyPYNMBlS2gIrj3bh6kXBHOB"
    },
    "kernelspec": {
      "name": "python3",
      "display_name": "Python 3.8.5 64-bit ('base': conda)"
    },
    "language_info": {
      "name": "python",
      "version": "3.8.5"
    },
    "accelerator": "GPU",
    "interpreter": {
      "hash": "37b255bb5dc0d995b91bd1b934b878e610a26475f52eafaf29fdb395fb105534"
    }
  },
  "cells": [
    {
      "cell_type": "code",
      "metadata": {
        "id": "HLulSNNG_yCf"
      },
      "source": [
        "#creating extra data from current files  \n",
        "\n",
        "import pandas as pd\n",
        "import os\n",
        "from datetime import datetime\n",
        "from packaging import version\n",
        "from keras.callbacks import EarlyStopping, ModelCheckpoint \n",
        "import tensorboard"
      ],
      "execution_count": 1,
      "outputs": [
        {
          "output_type": "stream",
          "name": "stderr",
          "text": [
            "Using TensorFlow backend.\n"
          ]
        },
        {
          "output_type": "error",
          "ename": "AttributeError",
          "evalue": "module 'keras.utils.generic_utils' has no attribute 'populate_dict_with_module_objects'",
          "traceback": [
            "\u001b[1;31m---------------------------------------------------------------------------\u001b[0m",
            "\u001b[1;31mAttributeError\u001b[0m                            Traceback (most recent call last)",
            "\u001b[1;32m<ipython-input-1-e65705dee8b4>\u001b[0m in \u001b[0;36m<module>\u001b[1;34m\u001b[0m\n\u001b[0;32m      5\u001b[0m \u001b[1;32mfrom\u001b[0m \u001b[0mdatetime\u001b[0m \u001b[1;32mimport\u001b[0m \u001b[0mdatetime\u001b[0m\u001b[1;33m\u001b[0m\u001b[1;33m\u001b[0m\u001b[0m\n\u001b[0;32m      6\u001b[0m \u001b[1;32mfrom\u001b[0m \u001b[0mpackaging\u001b[0m \u001b[1;32mimport\u001b[0m \u001b[0mversion\u001b[0m\u001b[1;33m\u001b[0m\u001b[1;33m\u001b[0m\u001b[0m\n\u001b[1;32m----> 7\u001b[1;33m \u001b[1;32mfrom\u001b[0m \u001b[0mkeras\u001b[0m\u001b[1;33m.\u001b[0m\u001b[0mcallbacks\u001b[0m \u001b[1;32mimport\u001b[0m \u001b[0mEarlyStopping\u001b[0m\u001b[1;33m,\u001b[0m \u001b[0mModelCheckpoint\u001b[0m\u001b[1;33m\u001b[0m\u001b[1;33m\u001b[0m\u001b[0m\n\u001b[0m\u001b[0;32m      8\u001b[0m \u001b[1;32mimport\u001b[0m \u001b[0mtensorboard\u001b[0m\u001b[1;33m\u001b[0m\u001b[1;33m\u001b[0m\u001b[0m\n",
            "\u001b[1;32mD:\\miniconda3\\lib\\site-packages\\keras\\__init__.py\u001b[0m in \u001b[0;36m<module>\u001b[1;34m\u001b[0m\n\u001b[0;32m      1\u001b[0m \u001b[1;32mfrom\u001b[0m \u001b[0m__future__\u001b[0m \u001b[1;32mimport\u001b[0m \u001b[0mabsolute_import\u001b[0m\u001b[1;33m\u001b[0m\u001b[1;33m\u001b[0m\u001b[0m\n\u001b[0;32m      2\u001b[0m \u001b[1;33m\u001b[0m\u001b[0m\n\u001b[1;32m----> 3\u001b[1;33m \u001b[1;32mfrom\u001b[0m \u001b[1;33m.\u001b[0m \u001b[1;32mimport\u001b[0m \u001b[0mutils\u001b[0m\u001b[1;33m\u001b[0m\u001b[1;33m\u001b[0m\u001b[0m\n\u001b[0m\u001b[0;32m      4\u001b[0m \u001b[1;32mfrom\u001b[0m \u001b[1;33m.\u001b[0m \u001b[1;32mimport\u001b[0m \u001b[0mactivations\u001b[0m\u001b[1;33m\u001b[0m\u001b[1;33m\u001b[0m\u001b[0m\n\u001b[0;32m      5\u001b[0m \u001b[1;32mfrom\u001b[0m \u001b[1;33m.\u001b[0m \u001b[1;32mimport\u001b[0m \u001b[0mapplications\u001b[0m\u001b[1;33m\u001b[0m\u001b[1;33m\u001b[0m\u001b[0m\n",
            "\u001b[1;32mD:\\miniconda3\\lib\\site-packages\\keras\\utils\\__init__.py\u001b[0m in \u001b[0;36m<module>\u001b[1;34m\u001b[0m\n\u001b[0;32m     24\u001b[0m \u001b[1;32mfrom\u001b[0m \u001b[1;33m.\u001b[0m\u001b[0mlayer_utils\u001b[0m \u001b[1;32mimport\u001b[0m \u001b[0mget_source_inputs\u001b[0m\u001b[1;33m\u001b[0m\u001b[1;33m\u001b[0m\u001b[0m\n\u001b[0;32m     25\u001b[0m \u001b[1;32mfrom\u001b[0m \u001b[1;33m.\u001b[0m\u001b[0mlayer_utils\u001b[0m \u001b[1;32mimport\u001b[0m \u001b[0mprint_summary\u001b[0m\u001b[1;33m\u001b[0m\u001b[1;33m\u001b[0m\u001b[0m\n\u001b[1;32m---> 26\u001b[1;33m \u001b[1;32mfrom\u001b[0m \u001b[1;33m.\u001b[0m\u001b[0mvis_utils\u001b[0m \u001b[1;32mimport\u001b[0m \u001b[0mmodel_to_dot\u001b[0m\u001b[1;33m\u001b[0m\u001b[1;33m\u001b[0m\u001b[0m\n\u001b[0m\u001b[0;32m     27\u001b[0m \u001b[1;32mfrom\u001b[0m \u001b[1;33m.\u001b[0m\u001b[0mvis_utils\u001b[0m \u001b[1;32mimport\u001b[0m \u001b[0mplot_model\u001b[0m\u001b[1;33m\u001b[0m\u001b[1;33m\u001b[0m\u001b[0m\n\u001b[0;32m     28\u001b[0m \u001b[1;32mfrom\u001b[0m \u001b[1;33m.\u001b[0m\u001b[0mnp_utils\u001b[0m \u001b[1;32mimport\u001b[0m \u001b[0mto_categorical\u001b[0m\u001b[1;33m\u001b[0m\u001b[1;33m\u001b[0m\u001b[0m\n",
            "\u001b[1;32mD:\\miniconda3\\lib\\site-packages\\keras\\utils\\vis_utils.py\u001b[0m in \u001b[0;36m<module>\u001b[1;34m\u001b[0m\n\u001b[0;32m      5\u001b[0m \u001b[1;33m\u001b[0m\u001b[0m\n\u001b[0;32m      6\u001b[0m \u001b[1;32mimport\u001b[0m \u001b[0mos\u001b[0m\u001b[1;33m\u001b[0m\u001b[1;33m\u001b[0m\u001b[0m\n\u001b[1;32m----> 7\u001b[1;33m \u001b[1;32mfrom\u001b[0m \u001b[1;33m.\u001b[0m\u001b[1;33m.\u001b[0m\u001b[0mmodels\u001b[0m \u001b[1;32mimport\u001b[0m \u001b[0mModel\u001b[0m\u001b[1;33m\u001b[0m\u001b[1;33m\u001b[0m\u001b[0m\n\u001b[0m\u001b[0;32m      8\u001b[0m \u001b[1;32mfrom\u001b[0m \u001b[1;33m.\u001b[0m\u001b[1;33m.\u001b[0m\u001b[0mlayers\u001b[0m\u001b[1;33m.\u001b[0m\u001b[0mwrappers\u001b[0m \u001b[1;32mimport\u001b[0m \u001b[0mWrapper\u001b[0m\u001b[1;33m\u001b[0m\u001b[1;33m\u001b[0m\u001b[0m\n\u001b[0;32m      9\u001b[0m \u001b[1;33m\u001b[0m\u001b[0m\n",
            "\u001b[1;32mD:\\miniconda3\\lib\\site-packages\\keras\\models.py\u001b[0m in \u001b[0;36m<module>\u001b[1;34m\u001b[0m\n\u001b[0;32m      8\u001b[0m \u001b[1;32mfrom\u001b[0m \u001b[1;33m.\u001b[0m\u001b[0mutils\u001b[0m\u001b[1;33m.\u001b[0m\u001b[0mgeneric_utils\u001b[0m \u001b[1;32mimport\u001b[0m \u001b[0mhas_arg\u001b[0m\u001b[1;33m\u001b[0m\u001b[1;33m\u001b[0m\u001b[0m\n\u001b[0;32m      9\u001b[0m \u001b[1;32mfrom\u001b[0m \u001b[1;33m.\u001b[0m\u001b[0mutils\u001b[0m\u001b[1;33m.\u001b[0m\u001b[0mgeneric_utils\u001b[0m \u001b[1;32mimport\u001b[0m \u001b[0mto_list\u001b[0m\u001b[1;33m\u001b[0m\u001b[1;33m\u001b[0m\u001b[0m\n\u001b[1;32m---> 10\u001b[1;33m \u001b[1;32mfrom\u001b[0m \u001b[1;33m.\u001b[0m\u001b[0mengine\u001b[0m\u001b[1;33m.\u001b[0m\u001b[0minput_layer\u001b[0m \u001b[1;32mimport\u001b[0m \u001b[0mInput\u001b[0m\u001b[1;33m\u001b[0m\u001b[1;33m\u001b[0m\u001b[0m\n\u001b[0m\u001b[0;32m     11\u001b[0m \u001b[1;32mfrom\u001b[0m \u001b[1;33m.\u001b[0m\u001b[0mengine\u001b[0m\u001b[1;33m.\u001b[0m\u001b[0minput_layer\u001b[0m \u001b[1;32mimport\u001b[0m \u001b[0mInputLayer\u001b[0m\u001b[1;33m\u001b[0m\u001b[1;33m\u001b[0m\u001b[0m\n\u001b[0;32m     12\u001b[0m \u001b[1;32mfrom\u001b[0m \u001b[1;33m.\u001b[0m\u001b[0mengine\u001b[0m\u001b[1;33m.\u001b[0m\u001b[0mtraining\u001b[0m \u001b[1;32mimport\u001b[0m \u001b[0mModel\u001b[0m\u001b[1;33m\u001b[0m\u001b[1;33m\u001b[0m\u001b[0m\n",
            "\u001b[1;32mD:\\miniconda3\\lib\\site-packages\\keras\\engine\\__init__.py\u001b[0m in \u001b[0;36m<module>\u001b[1;34m\u001b[0m\n\u001b[0;32m      1\u001b[0m \u001b[1;31m# note: `Node` is an internal class,\u001b[0m\u001b[1;33m\u001b[0m\u001b[1;33m\u001b[0m\u001b[1;33m\u001b[0m\u001b[0m\n\u001b[0;32m      2\u001b[0m \u001b[1;31m# it isn't meant to be used by Keras users.\u001b[0m\u001b[1;33m\u001b[0m\u001b[1;33m\u001b[0m\u001b[1;33m\u001b[0m\u001b[0m\n\u001b[1;32m----> 3\u001b[1;33m \u001b[1;32mfrom\u001b[0m \u001b[1;33m.\u001b[0m\u001b[0minput_layer\u001b[0m \u001b[1;32mimport\u001b[0m \u001b[0mInput\u001b[0m\u001b[1;33m\u001b[0m\u001b[1;33m\u001b[0m\u001b[0m\n\u001b[0m\u001b[0;32m      4\u001b[0m \u001b[1;32mfrom\u001b[0m \u001b[1;33m.\u001b[0m\u001b[0minput_layer\u001b[0m \u001b[1;32mimport\u001b[0m \u001b[0mInputLayer\u001b[0m\u001b[1;33m\u001b[0m\u001b[1;33m\u001b[0m\u001b[0m\n\u001b[0;32m      5\u001b[0m \u001b[1;32mfrom\u001b[0m \u001b[1;33m.\u001b[0m\u001b[0mbase_layer\u001b[0m \u001b[1;32mimport\u001b[0m \u001b[0mInputSpec\u001b[0m\u001b[1;33m\u001b[0m\u001b[1;33m\u001b[0m\u001b[0m\n",
            "\u001b[1;32mD:\\miniconda3\\lib\\site-packages\\keras\\engine\\input_layer.py\u001b[0m in \u001b[0;36m<module>\u001b[1;34m\u001b[0m\n\u001b[0;32m      5\u001b[0m \u001b[1;32mfrom\u001b[0m \u001b[0m__future__\u001b[0m \u001b[1;32mimport\u001b[0m \u001b[0mdivision\u001b[0m\u001b[1;33m\u001b[0m\u001b[1;33m\u001b[0m\u001b[0m\n\u001b[0;32m      6\u001b[0m \u001b[1;33m\u001b[0m\u001b[0m\n\u001b[1;32m----> 7\u001b[1;33m \u001b[1;32mfrom\u001b[0m \u001b[1;33m.\u001b[0m\u001b[0mbase_layer\u001b[0m \u001b[1;32mimport\u001b[0m \u001b[0mLayer\u001b[0m\u001b[1;33m\u001b[0m\u001b[1;33m\u001b[0m\u001b[0m\n\u001b[0m\u001b[0;32m      8\u001b[0m \u001b[1;32mfrom\u001b[0m \u001b[1;33m.\u001b[0m\u001b[0mbase_layer\u001b[0m \u001b[1;32mimport\u001b[0m \u001b[0mNode\u001b[0m\u001b[1;33m\u001b[0m\u001b[1;33m\u001b[0m\u001b[0m\n\u001b[0;32m      9\u001b[0m \u001b[1;32mfrom\u001b[0m \u001b[1;33m.\u001b[0m\u001b[1;33m.\u001b[0m \u001b[1;32mimport\u001b[0m \u001b[0mbackend\u001b[0m \u001b[1;32mas\u001b[0m \u001b[0mK\u001b[0m\u001b[1;33m\u001b[0m\u001b[1;33m\u001b[0m\u001b[0m\n",
            "\u001b[1;32mD:\\miniconda3\\lib\\site-packages\\keras\\engine\\base_layer.py\u001b[0m in \u001b[0;36m<module>\u001b[1;34m\u001b[0m\n\u001b[0;32m     10\u001b[0m \u001b[1;33m\u001b[0m\u001b[0m\n\u001b[0;32m     11\u001b[0m \u001b[1;32mfrom\u001b[0m \u001b[1;33m.\u001b[0m\u001b[1;33m.\u001b[0m \u001b[1;32mimport\u001b[0m \u001b[0mbackend\u001b[0m \u001b[1;32mas\u001b[0m \u001b[0mK\u001b[0m\u001b[1;33m\u001b[0m\u001b[1;33m\u001b[0m\u001b[0m\n\u001b[1;32m---> 12\u001b[1;33m \u001b[1;32mfrom\u001b[0m \u001b[1;33m.\u001b[0m\u001b[1;33m.\u001b[0m \u001b[1;32mimport\u001b[0m \u001b[0minitializers\u001b[0m\u001b[1;33m\u001b[0m\u001b[1;33m\u001b[0m\u001b[0m\n\u001b[0m\u001b[0;32m     13\u001b[0m \u001b[1;32mfrom\u001b[0m \u001b[1;33m.\u001b[0m\u001b[1;33m.\u001b[0m\u001b[0mutils\u001b[0m\u001b[1;33m.\u001b[0m\u001b[0mlayer_utils\u001b[0m \u001b[1;32mimport\u001b[0m \u001b[0mcount_params\u001b[0m\u001b[1;33m\u001b[0m\u001b[1;33m\u001b[0m\u001b[0m\n\u001b[0;32m     14\u001b[0m \u001b[1;32mfrom\u001b[0m \u001b[1;33m.\u001b[0m\u001b[1;33m.\u001b[0m\u001b[0mutils\u001b[0m\u001b[1;33m.\u001b[0m\u001b[0mgeneric_utils\u001b[0m \u001b[1;32mimport\u001b[0m \u001b[0mhas_arg\u001b[0m\u001b[1;33m\u001b[0m\u001b[1;33m\u001b[0m\u001b[0m\n",
            "\u001b[1;32mD:\\miniconda3\\lib\\site-packages\\keras\\initializers\\__init__.py\u001b[0m in \u001b[0;36m<module>\u001b[1;34m\u001b[0m\n\u001b[0;32m    122\u001b[0m \u001b[1;31m# from ALL_OBJECTS. We make no guarantees as to whether these objects will\u001b[0m\u001b[1;33m\u001b[0m\u001b[1;33m\u001b[0m\u001b[1;33m\u001b[0m\u001b[0m\n\u001b[0;32m    123\u001b[0m \u001b[1;31m# using their correct version.\u001b[0m\u001b[1;33m\u001b[0m\u001b[1;33m\u001b[0m\u001b[1;33m\u001b[0m\u001b[0m\n\u001b[1;32m--> 124\u001b[1;33m \u001b[0mpopulate_deserializable_objects\u001b[0m\u001b[1;33m(\u001b[0m\u001b[1;33m)\u001b[0m\u001b[1;33m\u001b[0m\u001b[1;33m\u001b[0m\u001b[0m\n\u001b[0m\u001b[0;32m    125\u001b[0m \u001b[0mglobals\u001b[0m\u001b[1;33m(\u001b[0m\u001b[1;33m)\u001b[0m\u001b[1;33m.\u001b[0m\u001b[0mupdate\u001b[0m\u001b[1;33m(\u001b[0m\u001b[0mLOCAL\u001b[0m\u001b[1;33m.\u001b[0m\u001b[0mALL_OBJECTS\u001b[0m\u001b[1;33m)\u001b[0m\u001b[1;33m\u001b[0m\u001b[1;33m\u001b[0m\u001b[0m\n\u001b[0;32m    126\u001b[0m \u001b[1;33m\u001b[0m\u001b[0m\n",
            "\u001b[1;32mD:\\miniconda3\\lib\\site-packages\\keras\\initializers\\__init__.py\u001b[0m in \u001b[0;36mpopulate_deserializable_objects\u001b[1;34m()\u001b[0m\n\u001b[0;32m     80\u001b[0m     \u001b[0mv2_objs\u001b[0m \u001b[1;33m=\u001b[0m \u001b[1;33m{\u001b[0m\u001b[1;33m}\u001b[0m\u001b[1;33m\u001b[0m\u001b[1;33m\u001b[0m\u001b[0m\n\u001b[0;32m     81\u001b[0m     \u001b[0mbase_cls\u001b[0m \u001b[1;33m=\u001b[0m \u001b[0minitializers_v2\u001b[0m\u001b[1;33m.\u001b[0m\u001b[0mInitializer\u001b[0m\u001b[1;33m\u001b[0m\u001b[1;33m\u001b[0m\u001b[0m\n\u001b[1;32m---> 82\u001b[1;33m     generic_utils.populate_dict_with_module_objects(\n\u001b[0m\u001b[0;32m     83\u001b[0m         \u001b[0mv2_objs\u001b[0m\u001b[1;33m,\u001b[0m\u001b[1;33m\u001b[0m\u001b[1;33m\u001b[0m\u001b[0m\n\u001b[0;32m     84\u001b[0m         \u001b[1;33m[\u001b[0m\u001b[0minitializers_v2\u001b[0m\u001b[1;33m]\u001b[0m\u001b[1;33m,\u001b[0m\u001b[1;33m\u001b[0m\u001b[1;33m\u001b[0m\u001b[0m\n",
            "\u001b[1;31mAttributeError\u001b[0m: module 'keras.utils.generic_utils' has no attribute 'populate_dict_with_module_objects'"
          ]
        }
      ]
    },
    {
      "cell_type": "code",
      "metadata": {
        "id": "wirg64O6UQcs"
      },
      "source": [
        "root_path = ''\n",
        "list_of_files = []\n",
        "for root, dir,files in os.walk('/content/drive/MyDrive/SEBI /Adjudication Orders Annotations JSON/Model Data Context'):\n",
        "  root_path = root\n",
        "  list_of_files = files\n",
        "  break \n",
        "\n"
      ],
      "execution_count": null,
      "outputs": []
    },
    {
      "cell_type": "code",
      "metadata": {
        "id": "O8vRP6MVYB5D",
        "colab": {
          "base_uri": "https://localhost:8080/"
        },
        "outputId": "ddb8c671-c04e-4fc3-8b91-1824de35ce55"
      },
      "source": [
        "all_dataframes = []\n",
        "for filename in list_of_files:\n",
        "  file_path = root_path + '/' + filename\n",
        "  file_temp = pd.read_csv(file_path)\n",
        "  #print(file_temp.shape)\n",
        "  temp_left = file_temp['Sentence']\n",
        "  empty_left_first = pd.Series('')\n",
        "  #print(type(temp_left))\n",
        "  #print(empty_left_first.shape)\n",
        "  file_temp['context_left'] = empty_left_first.append(temp_left,ignore_index=True)[:-1]\n",
        "  #print(file_temp.head())\n",
        "  temp_right = file_temp['Sentence'][1:]\n",
        "  #print(len(file_temp))\n",
        "  empty_right = pd.Series('')\n",
        "  file_temp['context_right'] = temp_right.append(empty_right,ignore_index=True)\n",
        "  print(file_temp.iloc[-1])\n",
        "  all_dataframes.append(file_temp)\n",
        "\n",
        "\n",
        "  \n",
        "\n",
        "\n",
        "  "
      ],
      "execution_count": null,
      "outputs": [
        {
          "output_type": "stream",
          "text": [
            "Sentence ID                                     F1312279794560_S72\n",
            "Label                                              procedural fact\n",
            "Sentence         In terms of the provisions of Rule 6 of the Ad...\n",
            "context_left               Accordingly, the matter is disposed of.\n",
            "context_right                                                     \n",
            "Name: 71, dtype: object\n",
            "Sentence ID                                     F1288673034598_S72\n",
            "Label                                              procedural fact\n",
            "Sentence         In terms of the provisions of Rule 6 of the Ad...\n",
            "context_left               Accordingly, the matter is disposed of.\n",
            "context_right                                                     \n",
            "Name: 71, dtype: object\n",
            "Sentence ID                                     F1289452697301_S46\n",
            "Label                                              procedural fact\n",
            "Sentence         In terms of the Rule 6 of the Adjudicating Rul...\n",
            "context_left     The said demand draft should be forwarded to S...\n",
            "context_right                                                     \n",
            "Name: 45, dtype: object\n",
            "Sentence ID                                     F1288072330011_S68\n",
            "Label                                              procedural fact\n",
            "Sentence          31. In terms of rule 6 of the Rules, copies o...\n",
            "context_left     The said demand draft should be forwarded to M...\n",
            "context_right                                                     \n",
            "Name: 67, dtype: object\n",
            "Sentence ID                                     F1290062946166_S80\n",
            "Label                                              procedural fact\n",
            "Sentence         In terms of rule 6 of the Rules, copies of thi...\n",
            "context_left     The said demand draft shall be forwarded to Ge...\n",
            "context_right                                                     \n",
            "Name: 79, dtype: object\n",
            "Sentence ID                                    F1314613428609_S112\n",
            "Label                                              procedural fact\n",
            "Sentence         In terms of the Rule 6 of the Adjudicating Rul...\n",
            "context_left     The said demand draft should be forwarded to D...\n",
            "context_right                                                     \n",
            "Name: 111, dtype: object\n",
            "Sentence ID                                     F1324544561749_S72\n",
            "Label                                              procedural fact\n",
            "Sentence          In terms of rule 6 of the Rules, copies of th...\n",
            "context_left     The said demand draft should be forwarded to -...\n",
            "context_right                                                     \n",
            "Name: 71, dtype: object\n",
            "Sentence ID                                    F1404444629445_S130\n",
            "Label                                              procedural fact\n",
            "Sentence                    The matter is disposed of accordingly.\n",
            "context_left     In terms of the Rule 6 of the Adjudication Rul...\n",
            "context_right                                                     \n",
            "Name: 129, dtype: object\n",
            "Sentence ID                                     F1404800940434_S83\n",
            "Label                                              procedural fact\n",
            "Sentence         In terms of rule 6 of the Rules, copies of thi...\n",
            "context_left     The said demand draft shall be forwarded to Ge...\n",
            "context_right                                                     \n",
            "Name: 82, dtype: object\n",
            "Sentence ID                                     F1409133457223_S59\n",
            "Label                                               statutory fact\n",
            "Sentence          In terms of rule 6 of the Rules, copies of th...\n",
            "context_left     The said demand draft should be forwarded to G...\n",
            "context_right                                                     \n",
            "Name: 58, dtype: object\n",
            "Sentence ID                                    F1564575450353_S123\n",
            "Label                                              procedural fact\n",
            "Sentence         In terms of the provisions of Rule 6 of the Ad...\n",
            "context_left     Payment can also be made online by following t...\n",
            "context_right                                                     \n",
            "Name: 122, dtype: object\n",
            "Sentence ID                                     F1509190608413_S69\n",
            "Label                                              procedural fact\n",
            "Sentence         In terms of the provisions of Rule 6 of the Se...\n",
            "context_left     Dadimaa Capital Pvt Ltd shall forward the foll...\n",
            "context_right                                                     \n",
            "Name: 68, dtype: object\n",
            "Sentence ID                                     F1372652426612_S68\n",
            "Label                                              procedural fact\n",
            "Sentence          31. In terms of rule 6 of the Rules, copies o...\n",
            "context_left     The said demand draft should be forwarded to M...\n",
            "context_right                                                     \n",
            "Name: 67, dtype: object\n",
            "Sentence ID                                     F1382959468059_S50\n",
            "Label                                       subjective observation\n",
            "Sentence         In view of the foregoing, the alleged violatio...\n",
            "context_left      Hence, I exonerate the Noticee of the charges...\n",
            "context_right                                                     \n",
            "Name: 49, dtype: object\n",
            "Sentence ID                                     F1407404311694_S85\n",
            "Label                                              procedural fact\n",
            "Sentence         In terms of the Rule 6 of the Adjudicating Rul...\n",
            "context_left     In view of the foregoing, the alleged violatio...\n",
            "context_right                                                     \n",
            "Name: 84, dtype: object\n",
            "Sentence ID                                     F1380795608703_S86\n",
            "Label                                              procedural fact\n",
            "Sentence         In terms of the Rule 6 of the Adjudicating Rul...\n",
            "context_left     In view of the foregoing, the alleged violatio...\n",
            "context_right                                                     \n",
            "Name: 85, dtype: object\n",
            "Sentence ID                                     F1372830044081_S49\n",
            "Label                                              procedural fact\n",
            "Sentence         In terms of the Rule 6 of the Adjudication Rul...\n",
            "context_left      In view of the above, after considering all t...\n",
            "context_right                                                     \n",
            "Name: 48, dtype: object\n",
            "Sentence ID                                     F1407404374671_S49\n",
            "Label                                              procedural fact\n",
            "Sentence         In terms of the Rule 6 of the Adjudicating Rul...\n",
            "context_left     In view of the foregoing, the alleged violatio...\n",
            "context_right                                                     \n",
            "Name: 48, dtype: object\n",
            "Sentence ID                                 F1291175003856_NEG_S73\n",
            "Label                                              procedural fact\n",
            "Sentence          In terms of Rule 6 of the Adjudication Rules,...\n",
            "context_left     After taking into consideration all the facts ...\n",
            "context_right                                                     \n",
            "Name: 72, dtype: object\n",
            "Sentence ID                                     F1312280268805_S57\n",
            "Label                                              procedural fact\n",
            "Sentence          In terms of rule 6 of the Rules, copies of th...\n",
            "context_left     In view of the foregoing, the alleged violatio...\n",
            "context_right                                                     \n",
            "Name: 56, dtype: object\n",
            "Sentence ID                                 F1290154724736_NEG_S81\n",
            "Label                                              procedural fact\n",
            "Sentence         In terms of rule 6 of the Rules, copies of thi...\n",
            "context_left     In view of the foregoing, the alleged violatio...\n",
            "context_right                                                     \n",
            "Name: 80, dtype: object\n",
            "Sentence ID                                    F1315463402543_S152\n",
            "Label                                              procedural fact\n",
            "Sentence          In terms of the Rule 6 of the Adjudicating Ru...\n",
            "context_left                The matter is accordingly disposed of.\n",
            "context_right                                                     \n",
            "Name: 151, dtype: object\n",
            "Sentence ID                                     F1358769139907_S44\n",
            "Label                                              procedural fact\n",
            "Sentence          In terms of Rule 6 of the Adjudication Rules,...\n",
            "context_left     The said demand draft shall be forwarded to th...\n",
            "context_right                                                     \n",
            "Name: 43, dtype: object\n",
            "Sentence ID                                     F1494587603795_S80\n",
            "Label                                              procedural fact\n",
            "Sentence         In terms of Rule 6 of the SEBI Adjudication Ru...\n",
            "context_left     Accordingly, the matter is disposed of without...\n",
            "context_right                                                     \n",
            "Name: 79, dtype: object\n",
            "Sentence ID                                    F1522238936458_S193\n",
            "Label                                              procedural fact\n",
            "Sentence         In terms of Rule 6 of the SEBI Adjudication Ru...\n",
            "context_left     Accordingly, the matter is disposed of without...\n",
            "context_right                                                     \n",
            "Name: 192, dtype: object\n",
            "Sentence ID                                     F1407404413828_S48\n",
            "Label                                              procedural fact\n",
            "Sentence          In terms of the Rule 6 of the Adjudicating Ru...\n",
            "context_left     In view of the foregoing, the alleged violatio...\n",
            "context_right                                                     \n",
            "Name: 47, dtype: object\n",
            "Sentence ID                                     F1289903641088_S28\n",
            "Label                                              procedural fact\n",
            "Sentence          In terms of rule 6 of the Adjudication Rules,...\n",
            "context_left      In view of the foregoing, the alleged violati...\n",
            "context_right                                                     \n",
            "Name: 27, dtype: object\n",
            "Sentence ID                                     F1404099510806_S40\n",
            "Label                                              procedural fact\n",
            "Sentence         In terms of rule 6 of the Rules, copies of thi...\n",
            "context_left     In view of the foregoing, the alleged violatio...\n",
            "context_right                                                     \n",
            "Name: 39, dtype: object\n",
            "Sentence ID                                     F1427283185104_S95\n",
            "Label                                              procedural fact\n",
            "Sentence         In terms of the provisions of Rule 6 of the Se...\n",
            "context_left     Considering the facts and circumstances and th...\n",
            "context_right                                                     \n",
            "Name: 94, dtype: object\n"
          ],
          "name": "stdout"
        }
      ]
    },
    {
      "cell_type": "code",
      "metadata": {
        "id": "MmFZQcb-jqjL"
      },
      "source": [
        "result = pd.DataFrame()\n",
        "result = result.append(all_dataframes,ignore_index=True)"
      ],
      "execution_count": null,
      "outputs": []
    },
    {
      "cell_type": "code",
      "metadata": {
        "id": "R9kZ-82MGlvB"
      },
      "source": [
        "#can combine left and right context\n",
        "result['Context'] = result['context_left'] + ' '+result['context_right']"
      ],
      "execution_count": null,
      "outputs": []
    },
    {
      "cell_type": "code",
      "metadata": {
        "id": "ieveEzi4ARSM",
        "colab": {
          "base_uri": "https://localhost:8080/"
        },
        "outputId": "7c2f3526-24d2-430f-99bd-cff33e5c85f0"
      },
      "source": [
        "!pip install bert-for-tf2 "
      ],
      "execution_count": null,
      "outputs": [
        {
          "output_type": "stream",
          "text": [
            "Collecting bert-for-tf2\n",
            "\u001b[?25l  Downloading https://files.pythonhosted.org/packages/a5/a1/acb891630749c56901e770a34d6bac8a509a367dd74a05daf7306952e910/bert-for-tf2-0.14.9.tar.gz (41kB)\n",
            "\r\u001b[K     |████████                        | 10kB 20.0MB/s eta 0:00:01\r\u001b[K     |████████████████                | 20kB 24.1MB/s eta 0:00:01\r\u001b[K     |███████████████████████▉        | 30kB 25.1MB/s eta 0:00:01\r\u001b[K     |███████████████████████████████▉| 40kB 26.8MB/s eta 0:00:01\r\u001b[K     |████████████████████████████████| 51kB 7.7MB/s \n",
            "\u001b[?25hCollecting py-params>=0.9.6\n",
            "  Downloading https://files.pythonhosted.org/packages/aa/e0/4f663d8abf83c8084b75b995bd2ab3a9512ebc5b97206fde38cef906ab07/py-params-0.10.2.tar.gz\n",
            "Collecting params-flow>=0.8.0\n",
            "  Downloading https://files.pythonhosted.org/packages/a9/95/ff49f5ebd501f142a6f0aaf42bcfd1c192dc54909d1d9eb84ab031d46056/params-flow-0.8.2.tar.gz\n",
            "Requirement already satisfied: numpy in /usr/local/lib/python3.7/dist-packages (from params-flow>=0.8.0->bert-for-tf2) (1.19.5)\n",
            "Requirement already satisfied: tqdm in /usr/local/lib/python3.7/dist-packages (from params-flow>=0.8.0->bert-for-tf2) (4.41.1)\n",
            "Building wheels for collected packages: bert-for-tf2, py-params, params-flow\n",
            "  Building wheel for bert-for-tf2 (setup.py) ... \u001b[?25l\u001b[?25hdone\n",
            "  Created wheel for bert-for-tf2: filename=bert_for_tf2-0.14.9-cp37-none-any.whl size=30535 sha256=9fe353f7f02f9828a49a305f45c1278b40c42d3a65bc24f2d1a025d479d1c4dd\n",
            "  Stored in directory: /root/.cache/pip/wheels/a1/04/ee/347bd9f5b821b637c76411d280271a857aece00358896a230f\n",
            "  Building wheel for py-params (setup.py) ... \u001b[?25l\u001b[?25hdone\n",
            "  Created wheel for py-params: filename=py_params-0.10.2-cp37-none-any.whl size=7912 sha256=b526976d8487d20d8dc9158bec4acccb30196b9fa27818acdd2f5dc295040e96\n",
            "  Stored in directory: /root/.cache/pip/wheels/d0/4a/70/ff12450229ff1955abf01f365051d4faae1c20aef53ab4cf09\n",
            "  Building wheel for params-flow (setup.py) ... \u001b[?25l\u001b[?25hdone\n",
            "  Created wheel for params-flow: filename=params_flow-0.8.2-cp37-none-any.whl size=19472 sha256=059854fb51fcbdc4bdc1726314ba419137ed8f78417576cf6acb52ac752c295e\n",
            "  Stored in directory: /root/.cache/pip/wheels/08/c8/7f/81c86b9ff2b86e2c477e3914175be03e679e596067dc630c06\n",
            "Successfully built bert-for-tf2 py-params params-flow\n",
            "Installing collected packages: py-params, params-flow, bert-for-tf2\n",
            "Successfully installed bert-for-tf2-0.14.9 params-flow-0.8.2 py-params-0.10.2\n"
          ],
          "name": "stdout"
        }
      ]
    },
    {
      "cell_type": "code",
      "metadata": {
        "id": "WwJVRcg7f0iM"
      },
      "source": [
        "\n",
        "from tqdm import tqdm\n",
        "import numpy as np\n",
        "import tensorflow as tf\n",
        "from tensorflow import keras\n",
        "import bert\n",
        "from bert import BertModelLayer\n",
        "from bert.loader import StockBertConfig, map_stock_config_to_params, load_stock_weights\n",
        "from bert.tokenization.bert_tokenization import FullTokenizer"
      ],
      "execution_count": null,
      "outputs": []
    },
    {
      "cell_type": "code",
      "metadata": {
        "id": "3DhCtIH0APFj"
      },
      "source": [
        "from sklearn.metrics import confusion_matrix, classification_report"
      ],
      "execution_count": null,
      "outputs": []
    },
    {
      "cell_type": "code",
      "metadata": {
        "id": "HhaEMlk2Bg8c"
      },
      "source": [
        "train_data = pd.DataFrame(columns= result.columns)\n",
        "test_data = pd.DataFrame(columns=result.columns)\n",
        "for label in result.Label.unique():\n",
        "  temp_df = result[result['Label'] == label]\n",
        "  train_index = int(temp_df.shape[0]*0.793)\n",
        "  train_data = train_data.append(temp_df[:train_index])\n",
        "  test_data = test_data.append(temp_df[train_index:])\n",
        "  \n",
        "  "
      ],
      "execution_count": null,
      "outputs": []
    },
    {
      "cell_type": "code",
      "metadata": {
        "id": "l_YqKoINHTWA",
        "colab": {
          "base_uri": "https://localhost:8080/",
          "height": 419
        },
        "outputId": "d950468e-41c6-467f-fafd-46f3c084ca91"
      },
      "source": [
        "#drop sentence ID, context_left and context right \n",
        "train_data.drop(columns = ['context_left','context_right','Sentence ID'],axis=1)\n",
        "#valid_df.drop(columns = ['context_left','context_right','Sentence ID'],axis=1)\n",
        "test_data.drop(columns = ['context_left','context_right','Sentence ID'],axis=1)"
      ],
      "execution_count": null,
      "outputs": [
        {
          "output_type": "execute_result",
          "data": {
            "text/html": [
              "<div>\n",
              "<style scoped>\n",
              "    .dataframe tbody tr th:only-of-type {\n",
              "        vertical-align: middle;\n",
              "    }\n",
              "\n",
              "    .dataframe tbody tr th {\n",
              "        vertical-align: top;\n",
              "    }\n",
              "\n",
              "    .dataframe thead th {\n",
              "        text-align: right;\n",
              "    }\n",
              "</style>\n",
              "<table border=\"1\" class=\"dataframe\">\n",
              "  <thead>\n",
              "    <tr style=\"text-align: right;\">\n",
              "      <th></th>\n",
              "      <th>Label</th>\n",
              "      <th>Sentence</th>\n",
              "      <th>Context</th>\n",
              "    </tr>\n",
              "  </thead>\n",
              "  <tbody>\n",
              "    <tr>\n",
              "      <th>1714</th>\n",
              "      <td>material fact</td>\n",
              "      <td>l. Thus, the inter-se transfer of shares amon...</td>\n",
              "      <td>Further, as per the C.A Certificate dated Marc...</td>\n",
              "    </tr>\n",
              "    <tr>\n",
              "      <th>1717</th>\n",
              "      <td>material fact</td>\n",
              "      <td>I find from the records that the Noticees are ...</td>\n",
              "      <td>m. In the circumstances, the impugned transact...</td>\n",
              "    </tr>\n",
              "    <tr>\n",
              "      <th>1718</th>\n",
              "      <td>material fact</td>\n",
              "      <td>The Promoter group and or PACs together during...</td>\n",
              "      <td>I find from the records that the Noticees are ...</td>\n",
              "    </tr>\n",
              "    <tr>\n",
              "      <th>1722</th>\n",
              "      <td>material fact</td>\n",
              "      <td>In present case the Noticees along with other...</td>\n",
              "      <td>The first condition which is in issue is that ...</td>\n",
              "    </tr>\n",
              "    <tr>\n",
              "      <th>1723</th>\n",
              "      <td>material fact</td>\n",
              "      <td>The said purchase transactions were executed a...</td>\n",
              "      <td>In present case the Noticees along with other...</td>\n",
              "    </tr>\n",
              "    <tr>\n",
              "      <th>...</th>\n",
              "      <td>...</td>\n",
              "      <td>...</td>\n",
              "      <td>...</td>\n",
              "    </tr>\n",
              "    <tr>\n",
              "      <th>1049</th>\n",
              "      <td>penalty</td>\n",
              "      <td>28. Considering the facts and circumstances of...</td>\n",
              "      <td>I have also taken into account the submissions...</td>\n",
              "    </tr>\n",
              "    <tr>\n",
              "      <th>1050</th>\n",
              "      <td>penalty</td>\n",
              "      <td>After taking into consideration all the facts ...</td>\n",
              "      <td>28. Considering the facts and circumstances of...</td>\n",
              "    </tr>\n",
              "    <tr>\n",
              "      <th>1767</th>\n",
              "      <td>penalty</td>\n",
              "      <td>Violation of the above provisions attracts pe...</td>\n",
              "      <td>Considering the facts and circumstances of the...</td>\n",
              "    </tr>\n",
              "    <tr>\n",
              "      <th>1775</th>\n",
              "      <td>penalty</td>\n",
              "      <td>In view of the findings hereinabove and on tak...</td>\n",
              "      <td>The amount of disproportionate gain or unfair ...</td>\n",
              "    </tr>\n",
              "    <tr>\n",
              "      <th>1776</th>\n",
              "      <td>penalty</td>\n",
              "      <td>In exercise of the powers conferred upon me un...</td>\n",
              "      <td>In view of the findings hereinabove and on tak...</td>\n",
              "    </tr>\n",
              "  </tbody>\n",
              "</table>\n",
              "<p>472 rows × 3 columns</p>\n",
              "</div>"
            ],
            "text/plain": [
              "              Label  ...                                            Context\n",
              "1714  material fact  ...  Further, as per the C.A Certificate dated Marc...\n",
              "1717  material fact  ...  m. In the circumstances, the impugned transact...\n",
              "1718  material fact  ...  I find from the records that the Noticees are ...\n",
              "1722  material fact  ...  The first condition which is in issue is that ...\n",
              "1723  material fact  ...   In present case the Noticees along with other...\n",
              "...             ...  ...                                                ...\n",
              "1049        penalty  ...  I have also taken into account the submissions...\n",
              "1050        penalty  ...  28. Considering the facts and circumstances of...\n",
              "1767        penalty  ...  Considering the facts and circumstances of the...\n",
              "1775        penalty  ...  The amount of disproportionate gain or unfair ...\n",
              "1776        penalty  ...  In view of the findings hereinabove and on tak...\n",
              "\n",
              "[472 rows x 3 columns]"
            ]
          },
          "metadata": {
            "tags": []
          },
          "execution_count": 13
        }
      ]
    },
    {
      "cell_type": "code",
      "metadata": {
        "colab": {
          "base_uri": "https://localhost:8080/"
        },
        "id": "eykcWs_4u-Dd",
        "outputId": "e78efc30-82be-4b0f-ce3f-757e5dde0ff7"
      },
      "source": [
        "train_data['Label'].value_counts()"
      ],
      "execution_count": null,
      "outputs": [
        {
          "output_type": "execute_result",
          "data": {
            "text/plain": [
              "defendant claim           471\n",
              "material fact             429\n",
              "procedural fact           254\n",
              "subjective observation    225\n",
              "statutory fact            148\n",
              "issues framed              75\n",
              "related fact               68\n",
              "allegation                 65\n",
              "penalty                    33\n",
              "violation                  24\n",
              "Name: Label, dtype: int64"
            ]
          },
          "metadata": {
            "tags": []
          },
          "execution_count": 14
        }
      ]
    },
    {
      "cell_type": "code",
      "metadata": {
        "colab": {
          "base_uri": "https://localhost:8080/",
          "height": 923
        },
        "id": "z0LEFofXgtjC",
        "outputId": "d461fb43-b612-435a-bb89-b57cfd27efb3"
      },
      "source": [
        "#Repeat same data processing steps for new data (validated data)\n",
        "\n",
        "vroot_path = ''\n",
        "vlist_of_files = []\n",
        "for root, dir,files in os.walk('/content/drive/MyDrive/SEBI /Adjudication Orders Annotations JSON/Model Data Validation Context'):\n",
        "  vroot_path = root\n",
        "  vlist_of_files = files\n",
        "\n",
        "\n",
        "vall_dataframes = []\n",
        "for filename in vlist_of_files:\n",
        "  file_path = vroot_path + '/' + filename\n",
        "  file_temp = pd.read_csv(file_path)\n",
        "  #print(file_temp.shape)\n",
        "  temp_left = file_temp['Sentence']\n",
        "  empty_left_first = pd.Series('')\n",
        "  #print(type(temp_left))\n",
        "  #print(empty_left_first.shape)\n",
        "  file_temp['context_left'] = empty_left_first.append(temp_left,ignore_index=True)[:-1]\n",
        "  #print(file_temp.head())\n",
        "  temp_right = file_temp['Sentence'][1:]\n",
        "  #print(len(file_temp))\n",
        "  empty_right = pd.Series('')\n",
        "  file_temp['context_right'] = temp_right.append(empty_right,ignore_index=True)\n",
        "  print(file_temp.iloc[-1])\n",
        "  vall_dataframes.append(file_temp)\n",
        "\n",
        "\n",
        "vresult = pd.DataFrame()\n",
        "vresult = vresult.append(vall_dataframes,ignore_index=True)\n",
        "\n",
        "#can combine left and right context\n",
        "vresult['Context'] = vresult['context_left'] + ' '+ vresult['context_right']\n",
        "\n",
        "perc = 0.208*vresult.shape[0]\n",
        "\n",
        "vtrain_data = pd.DataFrame(columns= vresult.columns)\n",
        "vtest_data = pd.DataFrame(columns=vresult.columns)\n",
        "for label in vresult.Label.unique():\n",
        "  vtemp_df = vresult[vresult['Label'] == label]\n",
        "  vtrain_index = int(vtemp_df.shape[0]*0.793)\n",
        "  vtrain_data = vtrain_data.append(vtemp_df[:vtrain_index])\n",
        "  vtest_data = vtest_data.append(vtemp_df[vtrain_index:])\n",
        "\n",
        "#drop sentence ID, context_left and context right \n",
        "vtrain_data.drop(columns = ['context_left','context_right','Sentence ID'],axis=1)\n",
        "#valid_df.drop(columns = ['context_left','context_right','Sentence ID'],axis=1)\n",
        "vtest_data.drop(columns = ['context_left','context_right','Sentence ID'],axis=1)\n",
        "  "
      ],
      "execution_count": null,
      "outputs": [
        {
          "output_type": "stream",
          "text": [
            "Unnamed: 0                                                     135\n",
            "Sentence ID                                     F1312182027229_S78\n",
            "Label                                                material fact\n",
            "Sentence         However it may be noted that the information s...\n",
            "context_left     The company in its board meeting on Aug 26 200...\n",
            "context_right                                                     \n",
            "Name: 135, dtype: object\n",
            "Unnamed: 0                                                      61\n",
            "Sentence ID                                     F1574936425811_S62\n",
            "Label                                              procedural fact\n",
            "Sentence         DATE NOVEMBER 28 2019 PLACE MUMBAI MANINDER CH...\n",
            "context_left     Copy of this Adjudication Order is being sent ...\n",
            "context_right                                                     \n",
            "Name: 61, dtype: object\n",
            "Unnamed: 0                                   119\n",
            "Sentence ID                  F1533210151120_S115\n",
            "Label                                     others\n",
            "Sentence                      Date of payment 4.\n",
            "context_left     Amount Paid 5.Transaction No 6.\n",
            "context_right                                   \n",
            "Name: 119, dtype: object\n",
            "Unnamed: 0                                                     320\n",
            "Sentence ID                                    F1433431158961_S261\n",
            "Label                                                 related fact\n",
            "Sentence         I also note that reference has been made to va...\n",
            "context_left     The above information was to be Adjudication i...\n",
            "context_right                                                     \n",
            "Name: 320, dtype: object\n"
          ],
          "name": "stdout"
        },
        {
          "output_type": "execute_result",
          "data": {
            "text/html": [
              "<div>\n",
              "<style scoped>\n",
              "    .dataframe tbody tr th:only-of-type {\n",
              "        vertical-align: middle;\n",
              "    }\n",
              "\n",
              "    .dataframe tbody tr th {\n",
              "        vertical-align: top;\n",
              "    }\n",
              "\n",
              "    .dataframe thead th {\n",
              "        text-align: right;\n",
              "    }\n",
              "</style>\n",
              "<table border=\"1\" class=\"dataframe\">\n",
              "  <thead>\n",
              "    <tr style=\"text-align: right;\">\n",
              "      <th></th>\n",
              "      <th>Unnamed: 0</th>\n",
              "      <th>Label</th>\n",
              "      <th>Sentence</th>\n",
              "      <th>Context</th>\n",
              "    </tr>\n",
              "  </thead>\n",
              "  <tbody>\n",
              "    <tr>\n",
              "      <th>470</th>\n",
              "      <td>152</td>\n",
              "      <td>others</td>\n",
              "      <td>New Delhi Television Limited 6.</td>\n",
              "      <td>Para 6 of Guidance Note to Clause 36 of the Li...</td>\n",
              "    </tr>\n",
              "    <tr>\n",
              "      <th>483</th>\n",
              "      <td>165</td>\n",
              "      <td>others</td>\n",
              "      <td>They are Adjudication in the matter of M s.</td>\n",
              "      <td>Peerless General Finance &amp; Investment Co. Ltd ...</td>\n",
              "    </tr>\n",
              "    <tr>\n",
              "      <th>516</th>\n",
              "      <td>198</td>\n",
              "      <td>others</td>\n",
              "      <td>Adjudication in the matter of M s.</td>\n",
              "      <td>Such a disclosure would also therefore be agai...</td>\n",
              "    </tr>\n",
              "    <tr>\n",
              "      <th>517</th>\n",
              "      <td>199</td>\n",
              "      <td>others</td>\n",
              "      <td>New Delhi Television Limited 26.</td>\n",
              "      <td>Adjudication in the matter of M s. It is perti...</td>\n",
              "    </tr>\n",
              "    <tr>\n",
              "      <th>526</th>\n",
              "      <td>208</td>\n",
              "      <td>others</td>\n",
              "      <td>Adjudication in the matter of M s.</td>\n",
              "      <td>It also did not furnish the record of discussi...</td>\n",
              "    </tr>\n",
              "    <tr>\n",
              "      <th>...</th>\n",
              "      <td>...</td>\n",
              "      <td>...</td>\n",
              "      <td>...</td>\n",
              "      <td>...</td>\n",
              "    </tr>\n",
              "    <tr>\n",
              "      <th>599</th>\n",
              "      <td>281</td>\n",
              "      <td>related fact</td>\n",
              "      <td>New Delhi Television Limited Company as a deal...</td>\n",
              "      <td>Those in charge of the affairs of the Company ...</td>\n",
              "    </tr>\n",
              "    <tr>\n",
              "      <th>600</th>\n",
              "      <td>282</td>\n",
              "      <td>related fact</td>\n",
              "      <td>Granting that they erred no case for imposing ...</td>\n",
              "      <td>New Delhi Television Limited Company as a deal...</td>\n",
              "    </tr>\n",
              "    <tr>\n",
              "      <th>604</th>\n",
              "      <td>286</td>\n",
              "      <td>related fact</td>\n",
              "      <td>Further The Hon’ble Supreme Court of India in ...</td>\n",
              "      <td>As brought out earlier the noticee has failed ...</td>\n",
              "    </tr>\n",
              "    <tr>\n",
              "      <th>605</th>\n",
              "      <td>287</td>\n",
              "      <td>related fact</td>\n",
              "      <td>Shri Ram Mutual Fund SCL 216SC held that “In o...</td>\n",
              "      <td>Further The Hon’ble Supreme Court of India in ...</td>\n",
              "    </tr>\n",
              "    <tr>\n",
              "      <th>638</th>\n",
              "      <td>320</td>\n",
              "      <td>related fact</td>\n",
              "      <td>I also note that reference has been made to va...</td>\n",
              "      <td>The above information was to be Adjudication i...</td>\n",
              "    </tr>\n",
              "  </tbody>\n",
              "</table>\n",
              "<p>138 rows × 4 columns</p>\n",
              "</div>"
            ],
            "text/plain": [
              "    Unnamed: 0  ...                                            Context\n",
              "470        152  ...  Para 6 of Guidance Note to Clause 36 of the Li...\n",
              "483        165  ...  Peerless General Finance & Investment Co. Ltd ...\n",
              "516        198  ...  Such a disclosure would also therefore be agai...\n",
              "517        199  ...  Adjudication in the matter of M s. It is perti...\n",
              "526        208  ...  It also did not furnish the record of discussi...\n",
              "..         ...  ...                                                ...\n",
              "599        281  ...  Those in charge of the affairs of the Company ...\n",
              "600        282  ...  New Delhi Television Limited Company as a deal...\n",
              "604        286  ...  As brought out earlier the noticee has failed ...\n",
              "605        287  ...  Further The Hon’ble Supreme Court of India in ...\n",
              "638        320  ...  The above information was to be Adjudication i...\n",
              "\n",
              "[138 rows x 4 columns]"
            ]
          },
          "metadata": {
            "tags": []
          },
          "execution_count": 15
        }
      ]
    },
    {
      "cell_type": "code",
      "metadata": {
        "colab": {
          "base_uri": "https://localhost:8080/"
        },
        "id": "qRMq2j0eieUm",
        "outputId": "e73390a2-65da-450a-aa5f-e657556edd1e"
      },
      "source": [
        "train_data.columns"
      ],
      "execution_count": null,
      "outputs": [
        {
          "output_type": "execute_result",
          "data": {
            "text/plain": [
              "Index(['Sentence ID', 'Label', 'Sentence', 'context_left', 'context_right',\n",
              "       'Context'],\n",
              "      dtype='object')"
            ]
          },
          "metadata": {
            "tags": []
          },
          "execution_count": 16
        }
      ]
    },
    {
      "cell_type": "code",
      "metadata": {
        "colab": {
          "base_uri": "https://localhost:8080/"
        },
        "id": "WGMwhyLrnkDr",
        "outputId": "d6cc1573-f5e1-4806-ea51-f95825badb95"
      },
      "source": [
        "test_data.columns"
      ],
      "execution_count": null,
      "outputs": [
        {
          "output_type": "execute_result",
          "data": {
            "text/plain": [
              "Index(['Sentence ID', 'Label', 'Sentence', 'context_left', 'context_right',\n",
              "       'Context'],\n",
              "      dtype='object')"
            ]
          },
          "metadata": {
            "tags": []
          },
          "execution_count": 18
        }
      ]
    },
    {
      "cell_type": "code",
      "metadata": {
        "id": "53nJ2DlHDDje",
        "colab": {
          "base_uri": "https://localhost:8080/"
        },
        "outputId": "bbd3d17e-4dfe-403d-b726-63a0b9a26f6f"
      },
      "source": [
        "!wget https://storage.googleapis.com/bert_models/2018_10_18/uncased_L-12_H-768_A-12.zip\n"
      ],
      "execution_count": null,
      "outputs": [
        {
          "output_type": "stream",
          "text": [
            "--2021-05-04 20:12:59--  https://storage.googleapis.com/bert_models/2018_10_18/uncased_L-12_H-768_A-12.zip\n",
            "Resolving storage.googleapis.com (storage.googleapis.com)... 172.217.164.176, 142.250.81.208, 142.250.73.208, ...\n",
            "Connecting to storage.googleapis.com (storage.googleapis.com)|172.217.164.176|:443... connected.\n",
            "HTTP request sent, awaiting response... 200 OK\n",
            "Length: 407727028 (389M) [application/zip]\n",
            "Saving to: ‘uncased_L-12_H-768_A-12.zip’\n",
            "\n",
            "uncased_L-12_H-768_ 100%[===================>] 388.84M   269MB/s    in 1.4s    \n",
            "\n",
            "2021-05-04 20:13:01 (269 MB/s) - ‘uncased_L-12_H-768_A-12.zip’ saved [407727028/407727028]\n",
            "\n"
          ],
          "name": "stdout"
        }
      ]
    },
    {
      "cell_type": "code",
      "metadata": {
        "id": "0-9lb3wMDO1r",
        "colab": {
          "base_uri": "https://localhost:8080/"
        },
        "outputId": "db43292a-eb8b-4b50-835b-38ee79862f7e"
      },
      "source": [
        "!unzip uncased_L-12_H-768_A-12.zip"
      ],
      "execution_count": null,
      "outputs": [
        {
          "output_type": "stream",
          "text": [
            "Archive:  uncased_L-12_H-768_A-12.zip\n",
            "   creating: uncased_L-12_H-768_A-12/\n",
            "  inflating: uncased_L-12_H-768_A-12/bert_model.ckpt.meta  \n",
            "  inflating: uncased_L-12_H-768_A-12/bert_model.ckpt.data-00000-of-00001  \n",
            "  inflating: uncased_L-12_H-768_A-12/vocab.txt  \n",
            "  inflating: uncased_L-12_H-768_A-12/bert_model.ckpt.index  \n",
            "  inflating: uncased_L-12_H-768_A-12/bert_config.json  \n"
          ],
          "name": "stdout"
        }
      ]
    },
    {
      "cell_type": "code",
      "metadata": {
        "id": "YA4Z_TKqDR_o"
      },
      "source": [
        "os.makedirs(\"model\", exist_ok=True)\n"
      ],
      "execution_count": null,
      "outputs": []
    },
    {
      "cell_type": "code",
      "metadata": {
        "id": "rAji3-r9DXfs"
      },
      "source": [
        "!mv uncased_L-12_H-768_A-12/ model\n"
      ],
      "execution_count": null,
      "outputs": []
    },
    {
      "cell_type": "code",
      "metadata": {
        "id": "wIceyf4GDZtw"
      },
      "source": [
        "\n",
        "bert_model_name=\"uncased_L-12_H-768_A-12\"\n",
        "\n",
        "bert_ckpt_dir = os.path.join(\"model/\", bert_model_name)\n",
        "bert_ckpt_file = os.path.join(bert_ckpt_dir, \"bert_model.ckpt\")\n",
        "bert_config_file = os.path.join(bert_ckpt_dir, \"bert_config.json\")"
      ],
      "execution_count": null,
      "outputs": []
    },
    {
      "cell_type": "code",
      "metadata": {
        "id": "w8aO-mUZSmOv",
        "colab": {
          "base_uri": "https://localhost:8080/"
        },
        "outputId": "dcd27503-fcb9-498f-de01-bf7fda0dd589"
      },
      "source": [
        "classes = train_data.Label.unique().tolist()\n",
        "classes"
      ],
      "execution_count": null,
      "outputs": [
        {
          "output_type": "execute_result",
          "data": {
            "text/plain": [
              "['material fact',\n",
              " 'statutory fact',\n",
              " 'allegation',\n",
              " 'violation',\n",
              " 'procedural fact',\n",
              " 'subjective observation',\n",
              " 'defendant claim',\n",
              " 'issues framed',\n",
              " 'related fact',\n",
              " 'penalty',\n",
              " 'others']"
            ]
          },
          "metadata": {
            "tags": []
          },
          "execution_count": 30
        }
      ]
    },
    {
      "cell_type": "code",
      "metadata": {
        "id": "ND70jcS8SvO8"
      },
      "source": [
        "tokenizer = FullTokenizer(vocab_file=os.path.join(bert_ckpt_dir, \"vocab.txt\"))\n"
      ],
      "execution_count": null,
      "outputs": []
    },
    {
      "cell_type": "code",
      "metadata": {
        "id": "eB-noUcZDcO4"
      },
      "source": [
        "#preprocessing \n",
        "class Classifier:\n",
        "  DATA_COLUMN = \"Sentence\"\n",
        "  CONTEXT_COLUMN = \"Context\"\n",
        "  LABEL_COLUMN = \"Label\"\n",
        "\n",
        "  def __init__(self, train, test, tokenizer: FullTokenizer, classes, max_seq_len=192):\n",
        "    self.tokenizer = tokenizer\n",
        "    self.max_seq_len = 0\n",
        "    self.classes = classes\n",
        "    \n",
        "    train, test = map(lambda df: df.reindex(df[Classifier.DATA_COLUMN].str.len().sort_values().index), [train, test])\n",
        "    \n",
        "    ((self.train_x, self.train_x_context, self.train_y), (self.test_x, self.test_x_context , self.test_y)) = map(self._prepare, [train, test])\n",
        "\n",
        "    print(\"max seq_len\", self.max_seq_len)\n",
        "    self.max_seq_len = min(self.max_seq_len, max_seq_len)\n",
        "    self.train_x, self.test_x = map(self._pad, [self.train_x, self.test_x])\n",
        "    self.train_x_context, self.test_x_context = map(self._pad, [self.train_x_context, self.test_x_context])\n",
        "\n",
        "  def _prepare(self, df):\n",
        "    x, y = [], []\n",
        "    context_x = []\n",
        "    \n",
        "    for _, row in tqdm(df.iterrows()):\n",
        "      text,context, label = row[Classifier.DATA_COLUMN], row[Classifier.CONTEXT_COLUMN],row[Classifier.LABEL_COLUMN]\n",
        "      tokens = self.tokenizer.tokenize(text)\n",
        "      context_tokens = self.tokenizer.tokenize(context)\n",
        "      tokens = [\"[CLS]\"] + tokens + [\"[SEP]\"]\n",
        "      context_tokens = [\"[CLS]\"] + context_tokens + [\"[SEP]\"]\n",
        "      token_ids = self.tokenizer.convert_tokens_to_ids(tokens)\n",
        "      context_token_ids = self.tokenizer.convert_tokens_to_ids(context_tokens)\n",
        "      self.max_seq_len = max(self.max_seq_len, len(context_token_ids))\n",
        "      x.append(token_ids)\n",
        "      context_x.append(context_token_ids)\n",
        "      y.append(self.classes.index(label))\n",
        "\n",
        "    return np.array(x), np.array(context_x),np.array(y)\n",
        "\n",
        "  def _pad(self, ids):\n",
        "    x = []\n",
        "    context_x = []\n",
        "    for input_ids in ids:\n",
        "      input_ids = input_ids[:min(len(input_ids), self.max_seq_len - 2)]\n",
        "      input_ids = input_ids + [0] * (self.max_seq_len - len(input_ids))\n",
        "      x.append(np.array(input_ids))\n",
        "    return np.array(x)"
      ],
      "execution_count": null,
      "outputs": []
    },
    {
      "cell_type": "code",
      "metadata": {
        "id": "LoonX15DOacy",
        "colab": {
          "base_uri": "https://localhost:8080/"
        },
        "outputId": "bd7ed5ca-5f6d-4bd3-f226-0e00c50d2291"
      },
      "source": [
        "data = Classifier(train_data, test_data, tokenizer, classes, max_seq_len=512)\n"
      ],
      "execution_count": null,
      "outputs": [
        {
          "output_type": "stream",
          "text": [
            "1792it [00:03, 464.22it/s]\n",
            "/usr/local/lib/python3.7/dist-packages/ipykernel_launcher.py:38: VisibleDeprecationWarning: Creating an ndarray from ragged nested sequences (which is a list-or-tuple of lists-or-tuples-or ndarrays with different lengths or shapes) is deprecated. If you meant to do this, you must specify 'dtype=object' when creating the ndarray\n",
            "472it [00:01, 450.05it/s]\n"
          ],
          "name": "stderr"
        },
        {
          "output_type": "stream",
          "text": [
            "max seq_len 396\n"
          ],
          "name": "stdout"
        }
      ]
    },
    {
      "cell_type": "code",
      "metadata": {
        "id": "VbtEEGQxS0OA"
      },
      "source": [
        "def create_model(max_seq_len, bert_ckpt_file):\n",
        "\n",
        "  with tf.io.gfile.GFile(bert_config_file, \"r\") as reader:\n",
        "      bc = StockBertConfig.from_json_string(reader.read())\n",
        "      bert_params = map_stock_config_to_params(bc)\n",
        "      bert_params.adapter_size = None\n",
        "      bert = BertModelLayer.from_params(bert_params, name=\"bert\")\n",
        "        \n",
        "  input_ids = keras.layers.Input(shape=(max_seq_len, ), dtype='int32', name=\"input_ids\")\n",
        "  input_context_ids = keras.layers.Input(shape=(max_seq_len, ), dtype='int32', name=\"input_context_ids\")\n",
        "  bert_output = bert(input_ids)\n",
        "  bert_context_output = bert(input_context_ids)\n",
        "\n",
        "\n",
        "  print(\"bert shape\", bert_output.shape)\n",
        "\n",
        "  cls_out = keras.layers.Lambda(lambda seq: seq[:,0,:])(bert_output)\n",
        "  cls_out = keras.layers.Dropout(0.5)(cls_out)\n",
        "  cls_out_context = keras.layers.Lambda(lambda seq: keras.backend.mean(seq,axis=1))(bert_context_output)\n",
        "  cls_out_context = keras.layers.Dropout(0.5)(cls_out_context)\n",
        "\n",
        "  cls_out_concat = keras.layers.Concatenate()([cls_out,cls_out_context])\n",
        "  logits = keras.layers.Dense(units=1536, activation=\"tanh\")(cls_out_concat)\n",
        "  logits = keras.layers.Dropout(0.5)(logits)\n",
        "  logits = keras.layers.Dense(units=len(classes), activation=\"softmax\")(logits)\n",
        "\n",
        "\n",
        "  model = keras.Model(inputs=[input_ids,input_context_ids], outputs=logits)\n",
        "  model.build(input_shape=(None, max_seq_len))\n",
        "\n",
        "  load_stock_weights(bert, bert_ckpt_file)\n",
        "        \n",
        "  return model"
      ],
      "execution_count": null,
      "outputs": []
    },
    {
      "cell_type": "code",
      "metadata": {
        "id": "8mgFP1ITXF3F"
      },
      "source": [
        "model = create_model(data.max_seq_len, bert_ckpt_file)"
      ],
      "execution_count": null,
      "outputs": []
    },
    {
      "cell_type": "code",
      "metadata": {
        "id": "nwNyijQj138z",
        "colab": {
          "base_uri": "https://localhost:8080/"
        },
        "outputId": "e8724aa0-42f6-46b4-c665-29f2d8764cae"
      },
      "source": [
        "model.summary()"
      ],
      "execution_count": null,
      "outputs": [
        {
          "output_type": "stream",
          "text": [
            "Model: \"model\"\n",
            "__________________________________________________________________________________________________\n",
            "Layer (type)                    Output Shape         Param #     Connected to                     \n",
            "==================================================================================================\n",
            "input_ids (InputLayer)          [(None, 396)]        0                                            \n",
            "__________________________________________________________________________________________________\n",
            "input_context_ids (InputLayer)  [(None, 396)]        0                                            \n",
            "__________________________________________________________________________________________________\n",
            "bert (BertModelLayer)           (None, 396, 768)     108890112   input_ids[0][0]                  \n",
            "                                                                 input_context_ids[0][0]          \n",
            "__________________________________________________________________________________________________\n",
            "lambda (Lambda)                 (None, 768)          0           bert[0][0]                       \n",
            "__________________________________________________________________________________________________\n",
            "lambda_1 (Lambda)               (None, 768)          0           bert[1][0]                       \n",
            "__________________________________________________________________________________________________\n",
            "dropout (Dropout)               (None, 768)          0           lambda[0][0]                     \n",
            "__________________________________________________________________________________________________\n",
            "dropout_1 (Dropout)             (None, 768)          0           lambda_1[0][0]                   \n",
            "__________________________________________________________________________________________________\n",
            "concatenate (Concatenate)       (None, 1536)         0           dropout[0][0]                    \n",
            "                                                                 dropout_1[0][0]                  \n",
            "__________________________________________________________________________________________________\n",
            "dense (Dense)                   (None, 1536)         2360832     concatenate[0][0]                \n",
            "__________________________________________________________________________________________________\n",
            "dropout_2 (Dropout)             (None, 1536)         0           dense[0][0]                      \n",
            "__________________________________________________________________________________________________\n",
            "dense_1 (Dense)                 (None, 11)           16907       dropout_2[0][0]                  \n",
            "==================================================================================================\n",
            "Total params: 111,267,851\n",
            "Trainable params: 111,267,851\n",
            "Non-trainable params: 0\n",
            "__________________________________________________________________________________________________\n"
          ],
          "name": "stdout"
        }
      ]
    },
    {
      "cell_type": "code",
      "metadata": {
        "id": "C1tSb8_13AOK"
      },
      "source": [
        "model.compile(\n",
        "  optimizer=keras.optimizers.Adam(1e-5),\n",
        "  loss=keras.losses.SparseCategoricalCrossentropy(from_logits=True),\n",
        "  metrics=[keras.metrics.SparseCategoricalAccuracy(name=\"acc\")]\n",
        ")"
      ],
      "execution_count": null,
      "outputs": []
    },
    {
      "cell_type": "code",
      "metadata": {
        "id": "cMOHs43M8zHE"
      },
      "source": [
        "\n",
        "logdir=\"logs/fit/\" + datetime.now().strftime(\"%Y%m%d-%H%M%S\")\n"
      ],
      "execution_count": null,
      "outputs": []
    },
    {
      "cell_type": "code",
      "metadata": {
        "id": "JnbeyRSPdE6x",
        "colab": {
          "base_uri": "https://localhost:8080/"
        },
        "outputId": "a5372b80-d268-4413-a726-59386285623a"
      },
      "source": [
        "\n",
        "\n",
        "\n",
        "my_callbacks = [EarlyStopping(patience=2, monitor=\"val_loss\"),  ModelCheckpoint(filepath='model_{epoch:02d}.hdf5', save_best_only=True, save_weights_only = False, monitor='val_loss', mode='auto',save_freq = 'epoch'),keras.callbacks.TensorBoard(log_dir=logdir)]\n",
        "\n"
      ],
      "execution_count": null,
      "outputs": [
        {
          "output_type": "stream",
          "text": [
            "2.4.1\n"
          ],
          "name": "stdout"
        }
      ]
    },
    {
      "cell_type": "code",
      "metadata": {
        "id": "zlKIWCMX3Sjo",
        "colab": {
          "base_uri": "https://localhost:8080/"
        },
        "outputId": "dbfe59a2-ee0e-4908-88ce-ae2c71569a18"
      },
      "source": [
        "\n",
        "history = model.fit(\n",
        "  x=[data.train_x,data.train_x_context], \n",
        "  y= data.train_y,\n",
        "  validation_split=0.1,\n",
        "  batch_size=4,\n",
        "  shuffle=True,\n",
        "  epochs = 10,\n",
        "  callbacks = my_callbacks\n",
        ")"
      ],
      "execution_count": null,
      "outputs": [
        {
          "output_type": "stream",
          "text": [
            "Epoch 1/10\n",
            "516/516 [==============================] - 527s 964ms/step - loss: 2.3731 - acc: 0.1979 - val_loss: 2.4510 - val_acc: 0.1565\n",
            "Epoch 2/10\n",
            "516/516 [==============================] - 496s 961ms/step - loss: 2.2279 - acc: 0.2181 - val_loss: 2.4086 - val_acc: 0.2261\n",
            "Epoch 3/10\n",
            "516/516 [==============================] - 497s 963ms/step - loss: 1.8807 - acc: 0.3376 - val_loss: 1.4005 - val_acc: 0.5783\n",
            "Epoch 4/10\n",
            "516/516 [==============================] - 497s 963ms/step - loss: 1.1055 - acc: 0.6319 - val_loss: 1.0030 - val_acc: 0.7217\n",
            "Epoch 5/10\n",
            "516/516 [==============================] - 497s 963ms/step - loss: 0.7334 - acc: 0.7650 - val_loss: 0.8391 - val_acc: 0.7478\n",
            "Epoch 6/10\n",
            "516/516 [==============================] - 497s 964ms/step - loss: 0.4493 - acc: 0.8593 - val_loss: 0.8600 - val_acc: 0.7609\n",
            "Epoch 7/10\n",
            "516/516 [==============================] - 497s 963ms/step - loss: 0.2879 - acc: 0.9102 - val_loss: 0.7768 - val_acc: 0.7826\n",
            "Epoch 8/10\n",
            "516/516 [==============================] - 495s 960ms/step - loss: 0.2403 - acc: 0.9273 - val_loss: 0.5710 - val_acc: 0.8435\n",
            "Epoch 9/10\n",
            "516/516 [==============================] - 496s 961ms/step - loss: 0.1654 - acc: 0.9460 - val_loss: 0.6993 - val_acc: 0.8130\n",
            "Epoch 10/10\n",
            "516/516 [==============================] - 495s 959ms/step - loss: 0.1402 - acc: 0.9603 - val_loss: 0.6560 - val_acc: 0.8522\n"
          ],
          "name": "stdout"
        }
      ]
    },
    {
      "cell_type": "code",
      "metadata": {
        "id": "Ln_ALAXH3uBQ",
        "colab": {
          "base_uri": "https://localhost:8080/"
        },
        "outputId": "b7fc06fd-12bf-4d64-eae7-93149c32b32d"
      },
      "source": [
        "_, train_acc = model.evaluate([data.train_x,data.train_x_context], data.train_y)\n",
        "_, test_acc = model.evaluate([data.test_x,data.test_x_context], data.test_y)\n",
        "\n",
        "print(\"train acc\", train_acc)\n",
        "print(\"test acc\", test_acc)"
      ],
      "execution_count": null,
      "outputs": [
        {
          "output_type": "stream",
          "text": [
            "72/72 [==============================] - 143s 2s/step - loss: 0.1254 - acc: 0.9686\n",
            "20/20 [==============================] - 38s 2s/step - loss: 1.5021 - acc: 0.7000\n",
            "train acc 0.9686000943183899\n",
            "test acc 0.699999988079071\n"
          ],
          "name": "stdout"
        }
      ]
    },
    {
      "cell_type": "code",
      "metadata": {
        "id": "OAV_y5B_A971"
      },
      "source": [
        "y_pred = model.predict([data.test_x,data.test_x_context]).argmax(axis=-1)\n"
      ],
      "execution_count": null,
      "outputs": []
    },
    {
      "cell_type": "code",
      "metadata": {
        "colab": {
          "base_uri": "https://localhost:8080/"
        },
        "id": "ao5QMuKnBo3b",
        "outputId": "ab45caf9-82fa-43f4-be25-03b272324f76"
      },
      "source": [
        "print(classification_report(data.test_y, y_pred, target_names=classes))\n"
      ],
      "execution_count": null,
      "outputs": [
        {
          "output_type": "stream",
          "text": [
            "                        precision    recall  f1-score   support\n",
            "\n",
            "         material fact       0.70      0.61      0.66       132\n",
            "        statutory fact       0.87      0.78      0.82        50\n",
            "            allegation       0.57      0.76      0.65        21\n",
            "             violation       0.20      0.11      0.14         9\n",
            "       procedural fact       0.80      0.91      0.85        86\n",
            "subjective observation       0.54      0.77      0.63        77\n",
            "       defendant claim       0.74      0.65      0.69       150\n",
            "         issues framed       1.00      0.84      0.91        25\n",
            "          related fact       0.45      0.41      0.43        34\n",
            "               penalty       0.75      0.69      0.72        13\n",
            "                others       0.86      0.92      0.89        13\n",
            "\n",
            "              accuracy                           0.70       610\n",
            "             macro avg       0.68      0.68      0.67       610\n",
            "          weighted avg       0.71      0.70      0.70       610\n",
            "\n"
          ],
          "name": "stdout"
        }
      ]
    },
    {
      "cell_type": "code",
      "metadata": {
        "colab": {
          "base_uri": "https://localhost:8080/"
        },
        "id": "Dl5RB6XxyvB1",
        "outputId": "8c5ae211-8cdd-467a-ffb5-9779735cc812"
      },
      "source": [
        "set(y_pred)"
      ],
      "execution_count": null,
      "outputs": [
        {
          "output_type": "execute_result",
          "data": {
            "text/plain": [
              "{0, 1, 2, 3, 4, 5, 6, 7, 8, 9, 10}"
            ]
          },
          "metadata": {
            "tags": []
          },
          "execution_count": 46
        }
      ]
    },
    {
      "cell_type": "code",
      "metadata": {
        "colab": {
          "base_uri": "https://localhost:8080/"
        },
        "id": "c9oaZDTzzHgV",
        "outputId": "482fbf49-952c-4b9c-ae39-acdc1eb240d0"
      },
      "source": [
        "set(data.test_y)"
      ],
      "execution_count": null,
      "outputs": [
        {
          "output_type": "execute_result",
          "data": {
            "text/plain": [
              "{0, 1, 2, 3, 4, 5, 6, 7, 8, 9, 10}"
            ]
          },
          "metadata": {
            "tags": []
          },
          "execution_count": 47
        }
      ]
    },
    {
      "cell_type": "code",
      "metadata": {
        "colab": {
          "base_uri": "https://localhost:8080/"
        },
        "id": "_ILmgI8M8TA3",
        "outputId": "a79ecc03-3b06-458f-ac76-32aa38da055d"
      },
      "source": [
        "!zip -r './model_08_all_others.zip' '/content/model_08.hdf5'"
      ],
      "execution_count": null,
      "outputs": [
        {
          "output_type": "stream",
          "text": [
            "  adding: content/model_08.hdf5 (deflated 19%)\n"
          ],
          "name": "stdout"
        }
      ]
    },
    {
      "cell_type": "code",
      "metadata": {
        "id": "xSGr2zqwagcV"
      },
      "source": [
        "!mv '/content/model_08_all_others.zip' '/content/drive/MyDrive/SEBI /best_models/context_models'"
      ],
      "execution_count": null,
      "outputs": []
    },
    {
      "cell_type": "code",
      "metadata": {
        "id": "-DkSlazPNh9Q"
      },
      "source": [
        "%load_ext tensorboard"
      ],
      "execution_count": null,
      "outputs": []
    },
    {
      "cell_type": "code",
      "metadata": {
        "id": "Dx3bJrWCNG-X"
      },
      "source": [
        "%tensorboard --logdir logs"
      ],
      "execution_count": null,
      "outputs": []
    },
    {
      "cell_type": "code",
      "metadata": {
        "colab": {
          "base_uri": "https://localhost:8080/"
        },
        "id": "2EYQUMjnRveT",
        "outputId": "6a367aae-0177-4d31-b93e-0e3032c4dea6"
      },
      "source": [
        "!zip -r './logs2.zip' '/content/logs'"
      ],
      "execution_count": null,
      "outputs": [
        {
          "output_type": "stream",
          "text": [
            "  adding: content/logs/ (stored 0%)\n",
            "  adding: content/logs/fit/ (stored 0%)\n",
            "  adding: content/logs/fit/20210404-204253/ (stored 0%)\n",
            "  adding: content/logs/fit/20210404-204253/validation/ (stored 0%)\n",
            "  adding: content/logs/fit/20210404-204253/validation/events.out.tfevents.1617569489.540bd0fc00a4.663.48573.v2 (deflated 53%)\n",
            "  adding: content/logs/fit/20210404-204253/train/ (stored 0%)\n",
            "  adding: content/logs/fit/20210404-204253/train/plugins/ (stored 0%)\n",
            "  adding: content/logs/fit/20210404-204253/train/plugins/profile/ (stored 0%)\n",
            "  adding: content/logs/fit/20210404-204253/train/plugins/profile/2021_04_04_20_43_34/ (stored 0%)\n",
            "  adding: content/logs/fit/20210404-204253/train/plugins/profile/2021_04_04_20_43_34/540bd0fc00a4.memory_profile.json.gz (deflated 0%)\n",
            "  adding: content/logs/fit/20210404-204253/train/plugins/profile/2021_04_04_20_43_34/540bd0fc00a4.input_pipeline.pb (deflated 56%)\n",
            "  adding: content/logs/fit/20210404-204253/train/plugins/profile/2021_04_04_20_43_34/540bd0fc00a4.xplane.pb (deflated 80%)\n",
            "  adding: content/logs/fit/20210404-204253/train/plugins/profile/2021_04_04_20_43_34/540bd0fc00a4.kernel_stats.pb (deflated 96%)\n",
            "  adding: content/logs/fit/20210404-204253/train/plugins/profile/2021_04_04_20_43_34/540bd0fc00a4.tensorflow_stats.pb (deflated 76%)\n",
            "  adding: content/logs/fit/20210404-204253/train/plugins/profile/2021_04_04_20_43_34/540bd0fc00a4.overview_page.pb (deflated 62%)\n",
            "  adding: content/logs/fit/20210404-204253/train/plugins/profile/2021_04_04_20_43_34/540bd0fc00a4.trace.json.gz (deflated 2%)\n",
            "  adding: content/logs/fit/20210404-204253/train/events.out.tfevents.1617568981.540bd0fc00a4.663.8897.v2 (deflated 93%)\n",
            "  adding: content/logs/fit/20210404-204253/train/events.out.tfevents.1617569014.540bd0fc00a4.profile-empty (deflated 5%)\n"
          ],
          "name": "stdout"
        }
      ]
    },
    {
      "cell_type": "code",
      "metadata": {
        "id": "RUNg-UKdSSWw"
      },
      "source": [
        "!mv 'logs2.zip' '/content/drive/MyDrive/SEBI /best_models/context_models'"
      ],
      "execution_count": null,
      "outputs": []
    },
    {
      "cell_type": "code",
      "metadata": {
        "id": "JCU8BeLlSabl"
      },
      "source": [
        "######## LOading BERT to see results on test data "
      ],
      "execution_count": null,
      "outputs": []
    },
    {
      "cell_type": "code",
      "metadata": {
        "id": "fCBJO_-hjFLN"
      },
      "source": [
        "model = tf.keras.models.load_model('/content/drive/MyDrive/SEBI /best_models/context_models/best_07_cls_avg.hdf5',custom_objects={\"BertModelLayer\": bert.BertModelLayer})"
      ],
      "execution_count": null,
      "outputs": []
    },
    {
      "cell_type": "code",
      "metadata": {
        "colab": {
          "base_uri": "https://localhost:8080/"
        },
        "id": "Fkk2CeBkjM25",
        "outputId": "b4c01d9d-3b71-4775-b01d-6058d77778ed"
      },
      "source": [
        "model.summary()"
      ],
      "execution_count": null,
      "outputs": [
        {
          "output_type": "stream",
          "text": [
            "Model: \"model\"\n",
            "__________________________________________________________________________________________________\n",
            "Layer (type)                    Output Shape         Param #     Connected to                     \n",
            "==================================================================================================\n",
            "input_ids (InputLayer)          [(None, 396)]        0                                            \n",
            "__________________________________________________________________________________________________\n",
            "input_context_ids (InputLayer)  [(None, 396)]        0                                            \n",
            "__________________________________________________________________________________________________\n",
            "bert (BertModelLayer)           (None, 396, 768)     108890112   input_ids[0][0]                  \n",
            "                                                                 input_context_ids[0][0]          \n",
            "__________________________________________________________________________________________________\n",
            "lambda (Lambda)                 (None, 768)          0           bert[0][0]                       \n",
            "__________________________________________________________________________________________________\n",
            "lambda_1 (Lambda)               (None, 768)          0           bert[1][0]                       \n",
            "__________________________________________________________________________________________________\n",
            "dropout (Dropout)               (None, 768)          0           lambda[0][0]                     \n",
            "__________________________________________________________________________________________________\n",
            "dropout_1 (Dropout)             (None, 768)          0           lambda_1[0][0]                   \n",
            "__________________________________________________________________________________________________\n",
            "concatenate (Concatenate)       (None, 1536)         0           dropout[0][0]                    \n",
            "                                                                 dropout_1[0][0]                  \n",
            "__________________________________________________________________________________________________\n",
            "dense (Dense)                   (None, 1536)         2360832     concatenate[0][0]                \n",
            "__________________________________________________________________________________________________\n",
            "dropout_2 (Dropout)             (None, 1536)         0           dense[0][0]                      \n",
            "__________________________________________________________________________________________________\n",
            "dense_1 (Dense)                 (None, 10)           15370       dropout_2[0][0]                  \n",
            "==================================================================================================\n",
            "Total params: 111,266,314\n",
            "Trainable params: 111,266,314\n",
            "Non-trainable params: 0\n",
            "__________________________________________________________________________________________________\n"
          ],
          "name": "stdout"
        }
      ]
    },
    {
      "cell_type": "code",
      "metadata": {
        "colab": {
          "base_uri": "https://localhost:8080/"
        },
        "id": "Xd_arMctjP0j",
        "outputId": "8f29e4d5-3dfc-4ecc-8eb3-0caadaaf9c4e"
      },
      "source": [
        "_, test_acc = model.evaluate([data.test_x,data.test_x_context], data.test_y)\n"
      ],
      "execution_count": null,
      "outputs": [
        {
          "output_type": "stream",
          "text": [
            "15/15 [==============================] - 23s 1s/step - loss: 1.0500 - acc: 0.7606\n"
          ],
          "name": "stdout"
        }
      ]
    },
    {
      "cell_type": "code",
      "metadata": {
        "colab": {
          "base_uri": "https://localhost:8080/"
        },
        "id": "hltb4xz0lViA",
        "outputId": "ac0e2a3b-9f4b-4ad9-a49b-1374df0c82e3"
      },
      "source": [
        "test_acc"
      ],
      "execution_count": null,
      "outputs": [
        {
          "output_type": "execute_result",
          "data": {
            "text/plain": [
              "0.7605932354927063"
            ]
          },
          "metadata": {
            "tags": []
          },
          "execution_count": 26
        }
      ]
    },
    {
      "cell_type": "code",
      "metadata": {
        "id": "OmpRZ6QrlWwi"
      },
      "source": [
        "y_pred = model.predict([data.test_x,data.test_x_context]).argmax(axis=-1)\n"
      ],
      "execution_count": null,
      "outputs": []
    },
    {
      "cell_type": "code",
      "metadata": {
        "id": "9eMJ3vMllczc"
      },
      "source": [
        "cm = confusion_matrix(y_true=data.test_y, y_pred= y_pred)"
      ],
      "execution_count": null,
      "outputs": []
    },
    {
      "cell_type": "code",
      "metadata": {
        "colab": {
          "base_uri": "https://localhost:8080/"
        },
        "id": "HXOfcFATl3VA",
        "outputId": "a460c9e1-ea7f-4c4e-a487-faffecd3e70f"
      },
      "source": [
        "cm"
      ],
      "execution_count": null,
      "outputs": [
        {
          "output_type": "execute_result",
          "data": {
            "text/plain": [
              "array([[84,  3,  5,  1,  0,  2, 18,  0,  0,  0],\n",
              "       [ 1, 36,  0,  0,  0,  1,  1,  0,  0,  0],\n",
              "       [ 1,  2, 13,  0,  0,  0,  1,  0,  0,  0],\n",
              "       [ 2,  0,  1,  2,  0,  1,  1,  0,  0,  0],\n",
              "       [ 3,  0,  0,  0, 59,  3,  1,  0,  1,  0],\n",
              "       [14,  0,  0,  4,  1, 38,  1,  0,  1,  0],\n",
              "       [ 8,  0,  2,  0,  0,  5, 93,  0, 15,  0],\n",
              "       [ 0,  0,  2,  0,  0,  0,  1, 17,  0,  0],\n",
              "       [ 1,  3,  0,  0,  0,  2,  2,  0, 10,  0],\n",
              "       [ 0,  2,  0,  0,  0,  0,  0,  0,  0,  7]])"
            ]
          },
          "metadata": {
            "tags": []
          },
          "execution_count": 29
        }
      ]
    },
    {
      "cell_type": "code",
      "metadata": {
        "id": "xnN3M43nqyo7",
        "colab": {
          "base_uri": "https://localhost:8080/",
          "height": 404
        },
        "outputId": "3e257646-568d-42ac-909f-ff10420f7317"
      },
      "source": [
        "import numpy as np\n",
        "import matplotlib.pyplot as plt\n",
        "\n",
        "\n",
        "height, width = cm.shape\n",
        "print(height)\n",
        "print(width)\n",
        "\n",
        "fig = plt.figure('confusion matrix')\n",
        "ax = fig.add_subplot(111, aspect='equal')\n",
        "for x in range(height):\n",
        "    rowsum = 0\n",
        "    for y in range(width):\n",
        "      if x == y:\n",
        "        ax.annotate(str(cm[width-x-1][height-y-1]), xy=(y, x), ha='center', va='center',backgroundcolor='#ADD8E6')\n",
        "        rowsum += cm[width-x-1][height-y-1]\n",
        "      else:\n",
        "        ax.annotate(str(cm[width-x-1][height-y-1]), xy=(y, x), ha='center', va='center')\n",
        "        rowsum += cm[width-x-1][height-y-1] \n",
        "    #print(f'row {x} sum is {rowsum}')\n",
        "    for y in range(width):\n",
        "      if x == y:\n",
        "        pass\n",
        "      elif cm[width-x-1][height-y-1] > int(0.1*rowsum):\n",
        "        ax.annotate(str(cm[width-x-1][height-y-1]), xy=(y, x), ha='center', va='center',backgroundcolor='#ffcccb')\n",
        "    \n",
        "\n",
        "offset = .5    \n",
        "ax.set_xlim(-offset, width - offset)\n",
        "ax.set_ylim(-offset, height - offset)\n",
        "\n",
        "ax.hlines(y=np.arange(height+1)- offset, xmin=-offset, xmax=width-offset)\n",
        "ax.vlines(x=np.arange(width+1) - offset, ymin=-offset, ymax=height-offset)\n",
        "\n",
        "\n",
        "\n",
        "plt.xticks(range(width), classes,rotation=90)\n",
        "plt.yticks(range(height), classes)\n",
        "plt.savefig('confusion_matrix.png', format='png')"
      ],
      "execution_count": null,
      "outputs": [
        {
          "output_type": "stream",
          "text": [
            "10\n",
            "10\n"
          ],
          "name": "stdout"
        },
        {
          "output_type": "display_data",
          "data": {
            "image/png": "[encoded data removed]",
            "text/plain": [
              "<Figure size 432x288 with 1 Axes>"
            ]
          },
          "metadata": {
            "tags": [],
            "needs_background": "light"
          }
        }
      ]
    },
    {
      "cell_type": "code",
      "metadata": {
        "colab": {
          "base_uri": "https://localhost:8080/"
        },
        "id": "1r2bXzzbdj6J",
        "outputId": "54e40f31-2e13-471c-9cbe-8ec4051677af"
      },
      "source": [
        "test_data['Label'].value_counts()"
      ],
      "execution_count": null,
      "outputs": [
        {
          "output_type": "execute_result",
          "data": {
            "text/plain": [
              "defendant claim           123\n",
              "material fact             113\n",
              "procedural fact            67\n",
              "subjective observation     59\n",
              "statutory fact             39\n",
              "issues framed              20\n",
              "related fact               18\n",
              "allegation                 17\n",
              "penalty                     9\n",
              "violation                   7\n",
              "Name: Label, dtype: int64"
            ]
          },
          "metadata": {
            "tags": []
          },
          "execution_count": 85
        }
      ]
    }
  ]
}