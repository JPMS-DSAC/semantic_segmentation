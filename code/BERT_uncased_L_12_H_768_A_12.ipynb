{
  "nbformat": 4,
  "nbformat_minor": 2,
  "metadata": {
    "accelerator": "TPU",
    "colab": {
      "name": "BERT_uncased_L-12_H-768_A-12",
      "provenance": [],
      "collapsed_sections": [],
      "mount_file_id": "1OTh0Vo0VZLLrWpCvOK0VPROrg4MGHX9J",
      "authorship_tag": "ABX9TyMJyMIcHjPQ96unFyWFeNJZ"
    },
    "kernelspec": {
      "name": "python3",
      "display_name": "Python 3.8.5 64-bit ('base': conda)"
    },
    "language_info": {
      "name": "python",
      "version": "3.8.5",
      "mimetype": "text/x-python",
      "codemirror_mode": {
        "name": "ipython",
        "version": 3
      },
      "pygments_lexer": "ipython3",
      "nbconvert_exporter": "python",
      "file_extension": ".py"
    },
    "interpreter": {
      "hash": "37b255bb5dc0d995b91bd1b934b878e610a26475f52eafaf29fdb395fb105534"
    }
  },
  "cells": [
    {
      "cell_type": "code",
      "execution_count": null,
      "source": [
        "!pip install tensorflow-gpu \r\n"
      ],
      "outputs": [],
      "metadata": {
        "id": "bqetPLzyZFk5"
      }
    },
    {
      "cell_type": "code",
      "execution_count": null,
      "source": [
        "!pip install tqdm \r\n",
        "!pip install bert-for-tf2 \r\n",
        "!pip install sentencepiece \r\n"
      ],
      "outputs": [],
      "metadata": {
        "id": "TnldteyfCycG"
      }
    },
    {
      "cell_type": "code",
      "execution_count": 2,
      "source": [
        "import os\r\n",
        "import math\r\n",
        "import datetime\r\n",
        "\r\n",
        "from tqdm import tqdm\r\n",
        "\r\n",
        "import pandas as pd\r\n",
        "import numpy as np\r\n",
        "\r\n",
        "import tensorflow as tf\r\n",
        "from tensorflow import keras\r\n",
        "\r\n",
        "import bert\r\n",
        "from bert import BertModelLayer\r\n",
        "from bert.loader import StockBertConfig, map_stock_config_to_params, load_stock_weights\r\n",
        "from bert.tokenization.bert_tokenization import FullTokenizer\r\n"
      ],
      "outputs": [],
      "metadata": {
        "id": "PK7K-F1aByL-"
      }
    },
    {
      "cell_type": "code",
      "execution_count": 3,
      "source": [
        "from sklearn.metrics import confusion_matrix, classification_report"
      ],
      "outputs": [],
      "metadata": {
        "id": "JH0Ik_AlBxqz"
      }
    },
    {
      "cell_type": "code",
      "execution_count": 4,
      "source": [
        "\r\n",
        "import seaborn as sns\r\n",
        "from pylab import rcParams\r\n",
        "import matplotlib.pyplot as plt\r\n",
        "from matplotlib.ticker import MaxNLocator\r\n",
        "from matplotlib import rc\r\n"
      ],
      "outputs": [],
      "metadata": {
        "id": "8uL56jI7DK8I"
      }
    },
    {
      "cell_type": "code",
      "execution_count": null,
      "source": [
        "train = pd.read_csv(\"/content/drive/MyDrive/SEBI /Adjudication Orders Annotations JSON/Model Data CSV/train_5.csv\")\r\n",
        "valid = pd.read_csv(\"/content/drive/MyDrive/SEBI /Adjudication Orders Annotations JSON/Model Data CSV/valid_5.csv\")\r\n",
        "test = pd.read_csv(\"/content/drive/MyDrive/SEBI /Adjudication Orders Annotations JSON/Model Data CSV/test_5.csv\")"
      ],
      "outputs": [],
      "metadata": {
        "id": "blKZBM18DjnY"
      }
    },
    {
      "cell_type": "code",
      "execution_count": null,
      "source": [
        "train = train.append(valid).reset_index(drop=True)\r\n"
      ],
      "outputs": [],
      "metadata": {
        "id": "XrOWejWnDnUd"
      }
    },
    {
      "cell_type": "code",
      "execution_count": null,
      "source": [
        "print(train.shape)\r\n",
        "train = train.drop(['Unnamed: 0', 'Sentence ID'],axis = 1)\r\n",
        "print(train.shape)\r\n",
        "train.head()"
      ],
      "outputs": [
        {
          "output_type": "stream",
          "name": "stdout",
          "text": [
            "(1834, 4)\n",
            "(1834, 2)\n"
          ]
        },
        {
          "output_type": "execute_result",
          "data": {
            "text/plain": [
              "           Label                                           Sentence\n",
              "0  material fact  Securities and Exchange Board of India (herein...\n",
              "1  material fact  The Investigating Authority observed that M s ...\n",
              "2  material fact  Out of the said shares, the Noticee on Decembe...\n",
              "3  material fact  Further, the Noticee sold the remaining 1,60,5...\n",
              "4  material fact  The Noticee on December 11, 2009 transferred s..."
            ],
            "text/html": [
              "<div>\n",
              "<style scoped>\n",
              "    .dataframe tbody tr th:only-of-type {\n",
              "        vertical-align: middle;\n",
              "    }\n",
              "\n",
              "    .dataframe tbody tr th {\n",
              "        vertical-align: top;\n",
              "    }\n",
              "\n",
              "    .dataframe thead th {\n",
              "        text-align: right;\n",
              "    }\n",
              "</style>\n",
              "<table border=\"1\" class=\"dataframe\">\n",
              "  <thead>\n",
              "    <tr style=\"text-align: right;\">\n",
              "      <th></th>\n",
              "      <th>Label</th>\n",
              "      <th>Sentence</th>\n",
              "    </tr>\n",
              "  </thead>\n",
              "  <tbody>\n",
              "    <tr>\n",
              "      <th>0</th>\n",
              "      <td>material fact</td>\n",
              "      <td>Securities and Exchange Board of India (herein...</td>\n",
              "    </tr>\n",
              "    <tr>\n",
              "      <th>1</th>\n",
              "      <td>material fact</td>\n",
              "      <td>The Investigating Authority observed that M s ...</td>\n",
              "    </tr>\n",
              "    <tr>\n",
              "      <th>2</th>\n",
              "      <td>material fact</td>\n",
              "      <td>Out of the said shares, the Noticee on Decembe...</td>\n",
              "    </tr>\n",
              "    <tr>\n",
              "      <th>3</th>\n",
              "      <td>material fact</td>\n",
              "      <td>Further, the Noticee sold the remaining 1,60,5...</td>\n",
              "    </tr>\n",
              "    <tr>\n",
              "      <th>4</th>\n",
              "      <td>material fact</td>\n",
              "      <td>The Noticee on December 11, 2009 transferred s...</td>\n",
              "    </tr>\n",
              "  </tbody>\n",
              "</table>\n",
              "</div>"
            ]
          },
          "metadata": {
            "tags": []
          },
          "execution_count": 23
        }
      ],
      "metadata": {
        "colab": {
          "base_uri": "https://localhost:8080/",
          "height": 240
        },
        "id": "UR-S7uiDDt2x",
        "outputId": "9804896d-a0bb-4166-967f-7f402129f877"
      }
    },
    {
      "cell_type": "code",
      "execution_count": null,
      "source": [
        "train = train[['Sentence','Label']]"
      ],
      "outputs": [],
      "metadata": {
        "id": "EnAABZCD09If"
      }
    },
    {
      "cell_type": "code",
      "execution_count": null,
      "source": [
        "train.head()"
      ],
      "outputs": [
        {
          "output_type": "execute_result",
          "data": {
            "text/plain": [
              "                                            Sentence          Label\n",
              "0  Securities and Exchange Board of India (herein...  material fact\n",
              "1  The Investigating Authority observed that M s ...  material fact\n",
              "2  Out of the said shares, the Noticee on Decembe...  material fact\n",
              "3  Further, the Noticee sold the remaining 1,60,5...  material fact\n",
              "4  The Noticee on December 11, 2009 transferred s...  material fact"
            ],
            "text/html": [
              "<div>\n",
              "<style scoped>\n",
              "    .dataframe tbody tr th:only-of-type {\n",
              "        vertical-align: middle;\n",
              "    }\n",
              "\n",
              "    .dataframe tbody tr th {\n",
              "        vertical-align: top;\n",
              "    }\n",
              "\n",
              "    .dataframe thead th {\n",
              "        text-align: right;\n",
              "    }\n",
              "</style>\n",
              "<table border=\"1\" class=\"dataframe\">\n",
              "  <thead>\n",
              "    <tr style=\"text-align: right;\">\n",
              "      <th></th>\n",
              "      <th>Sentence</th>\n",
              "      <th>Label</th>\n",
              "    </tr>\n",
              "  </thead>\n",
              "  <tbody>\n",
              "    <tr>\n",
              "      <th>0</th>\n",
              "      <td>Securities and Exchange Board of India (herein...</td>\n",
              "      <td>material fact</td>\n",
              "    </tr>\n",
              "    <tr>\n",
              "      <th>1</th>\n",
              "      <td>The Investigating Authority observed that M s ...</td>\n",
              "      <td>material fact</td>\n",
              "    </tr>\n",
              "    <tr>\n",
              "      <th>2</th>\n",
              "      <td>Out of the said shares, the Noticee on Decembe...</td>\n",
              "      <td>material fact</td>\n",
              "    </tr>\n",
              "    <tr>\n",
              "      <th>3</th>\n",
              "      <td>Further, the Noticee sold the remaining 1,60,5...</td>\n",
              "      <td>material fact</td>\n",
              "    </tr>\n",
              "    <tr>\n",
              "      <th>4</th>\n",
              "      <td>The Noticee on December 11, 2009 transferred s...</td>\n",
              "      <td>material fact</td>\n",
              "    </tr>\n",
              "  </tbody>\n",
              "</table>\n",
              "</div>"
            ]
          },
          "metadata": {
            "tags": []
          },
          "execution_count": 25
        }
      ],
      "metadata": {
        "colab": {
          "base_uri": "https://localhost:8080/",
          "height": 204
        },
        "id": "PHbWpKfc1QSX",
        "outputId": "5a10d51d-779b-4efc-b115-fa6b2af15311"
      }
    },
    {
      "cell_type": "code",
      "execution_count": null,
      "source": [
        "test = test.drop(['Unnamed: 0', 'Sentence ID'],axis = 1)\r\n",
        "test = test[['Sentence','Label']]"
      ],
      "outputs": [],
      "metadata": {
        "id": "cciGvicu2oSH"
      }
    },
    {
      "cell_type": "code",
      "execution_count": null,
      "source": [
        "test.head()\r\n",
        "len(test)"
      ],
      "outputs": [
        {
          "output_type": "execute_result",
          "data": {
            "text/plain": [
              "471"
            ]
          },
          "metadata": {
            "tags": []
          },
          "execution_count": 27
        }
      ],
      "metadata": {
        "colab": {
          "base_uri": "https://localhost:8080/"
        },
        "id": "sSzB9wp23gGn",
        "outputId": "c2efdcc4-727f-4c27-d635-a4250effafb0"
      }
    },
    {
      "cell_type": "code",
      "execution_count": null,
      "source": [
        "train.head()\r\n"
      ],
      "outputs": [
        {
          "output_type": "execute_result",
          "data": {
            "text/plain": [
              "                                            Sentence          Label\n",
              "0  Securities and Exchange Board of India (herein...  material fact\n",
              "1  The Investigating Authority observed that M s ...  material fact\n",
              "2  Out of the said shares, the Noticee on Decembe...  material fact\n",
              "3  Further, the Noticee sold the remaining 1,60,5...  material fact\n",
              "4  The Noticee on December 11, 2009 transferred s...  material fact"
            ],
            "text/html": [
              "<div>\n",
              "<style scoped>\n",
              "    .dataframe tbody tr th:only-of-type {\n",
              "        vertical-align: middle;\n",
              "    }\n",
              "\n",
              "    .dataframe tbody tr th {\n",
              "        vertical-align: top;\n",
              "    }\n",
              "\n",
              "    .dataframe thead th {\n",
              "        text-align: right;\n",
              "    }\n",
              "</style>\n",
              "<table border=\"1\" class=\"dataframe\">\n",
              "  <thead>\n",
              "    <tr style=\"text-align: right;\">\n",
              "      <th></th>\n",
              "      <th>Sentence</th>\n",
              "      <th>Label</th>\n",
              "    </tr>\n",
              "  </thead>\n",
              "  <tbody>\n",
              "    <tr>\n",
              "      <th>0</th>\n",
              "      <td>Securities and Exchange Board of India (herein...</td>\n",
              "      <td>material fact</td>\n",
              "    </tr>\n",
              "    <tr>\n",
              "      <th>1</th>\n",
              "      <td>The Investigating Authority observed that M s ...</td>\n",
              "      <td>material fact</td>\n",
              "    </tr>\n",
              "    <tr>\n",
              "      <th>2</th>\n",
              "      <td>Out of the said shares, the Noticee on Decembe...</td>\n",
              "      <td>material fact</td>\n",
              "    </tr>\n",
              "    <tr>\n",
              "      <th>3</th>\n",
              "      <td>Further, the Noticee sold the remaining 1,60,5...</td>\n",
              "      <td>material fact</td>\n",
              "    </tr>\n",
              "    <tr>\n",
              "      <th>4</th>\n",
              "      <td>The Noticee on December 11, 2009 transferred s...</td>\n",
              "      <td>material fact</td>\n",
              "    </tr>\n",
              "  </tbody>\n",
              "</table>\n",
              "</div>"
            ]
          },
          "metadata": {
            "tags": []
          },
          "execution_count": 28
        }
      ],
      "metadata": {
        "colab": {
          "base_uri": "https://localhost:8080/",
          "height": 204
        },
        "id": "456CyZYPDwLN",
        "outputId": "aff4e8ea-26d2-499f-eb25-91bbe2905a72"
      }
    },
    {
      "cell_type": "code",
      "execution_count": null,
      "source": [
        "# loading validation data if you want to merge original data with validated data and train the model \r\n",
        "''''\r\n",
        "vroot_path = ''\r\n",
        "vlist_of_files = []\r\n",
        "for root, dir,files in os.walk('/content/drive/MyDrive/SEBI /Adjudication Orders Annotations JSON/Model Data Validation Context'):\r\n",
        "  vroot_path = root\r\n",
        "  vlist_of_files = files\r\n",
        "\r\n",
        "vall_dataframes = []\r\n",
        "for filename in vlist_of_files:\r\n",
        "  file_path = vroot_path + '/' + filename\r\n",
        "  file_temp = pd.read_csv(file_path)\r\n",
        "  vall_dataframes.append(file_temp)\r\n",
        "\r\n",
        "\r\n",
        "vresult = pd.DataFrame()\r\n",
        "vresult = vresult.append(vall_dataframes,ignore_index=True)\r\n",
        "\r\n",
        "vtrain_data = pd.DataFrame(columns= vresult.columns)\r\n",
        "vtest_data = pd.DataFrame(columns=vresult.columns)\r\n",
        "for label in vresult.Label.unique():\r\n",
        "  vtemp_df = vresult[vresult['Label'] == label]\r\n",
        "  # 79.3% train ; rest is test ; train is split into validation further \r\n",
        "  vtrain_index = int(vtemp_df.shape[0]*0.793)\r\n",
        "  vtrain_data = vtrain_data.append(vtemp_df[:vtrain_index])\r\n",
        "  vtest_data = vtest_data.append(vtemp_df[vtrain_index:])\r\n",
        "\r\n",
        "vtrain_data.drop(['Sentence ID','Unnamed: 0'],axis=1,inplace=True)\r\n",
        "vtest_data.drop(['Sentence ID','Unnamed: 0'],axis=1,inplace=True)\r\n",
        "train = train.append(vtrain_data,ignore_index=True)\r\n",
        "test = test.append(vtest_data,ignore_index=True)\r\n",
        "'''"
      ],
      "outputs": [],
      "metadata": {
        "id": "LouGH36rpB92"
      }
    },
    {
      "cell_type": "code",
      "execution_count": null,
      "source": [
        "train.shape"
      ],
      "outputs": [
        {
          "output_type": "execute_result",
          "data": {
            "text/plain": [
              "(2335, 2)"
            ]
          },
          "metadata": {
            "tags": []
          },
          "execution_count": 34
        }
      ],
      "metadata": {
        "colab": {
          "base_uri": "https://localhost:8080/"
        },
        "id": "vGFqR1TNsgeI",
        "outputId": "2fff5c5a-7abe-4a21-8570-25d552014cb7"
      }
    },
    {
      "cell_type": "code",
      "execution_count": null,
      "source": [
        "!wget https://storage.googleapis.com/bert_models/2018_10_18/uncased_L-12_H-768_A-12.zip\r\n"
      ],
      "outputs": [
        {
          "output_type": "stream",
          "name": "stdout",
          "text": [
            "--2021-04-05 06:22:55--  https://storage.googleapis.com/bert_models/2018_10_18/uncased_L-12_H-768_A-12.zip\n",
            "Resolving storage.googleapis.com (storage.googleapis.com)... 142.250.1.128, 142.250.103.128, 142.250.128.128, ...\n",
            "Connecting to storage.googleapis.com (storage.googleapis.com)|142.250.1.128|:443... connected.\n",
            "HTTP request sent, awaiting response... 200 OK\n",
            "Length: 407727028 (389M) [application/zip]\n",
            "Saving to: ‘uncased_L-12_H-768_A-12.zip.1’\n",
            "\n",
            "uncased_L-12_H-768_ 100%[===================>] 388.84M   157MB/s    in 2.5s    \n",
            "\n",
            "2021-04-05 06:22:58 (157 MB/s) - ‘uncased_L-12_H-768_A-12.zip.1’ saved [407727028/407727028]\n",
            "\n"
          ]
        }
      ],
      "metadata": {
        "colab": {
          "base_uri": "https://localhost:8080/"
        },
        "id": "jO9z80SrFksi",
        "outputId": "385e14f7-61e5-43b5-fd69-3c81a44ba60f"
      }
    },
    {
      "cell_type": "code",
      "execution_count": null,
      "source": [
        "!unzip uncased_L-12_H-768_A-12.zip"
      ],
      "outputs": [
        {
          "output_type": "stream",
          "name": "stdout",
          "text": [
            "Archive:  uncased_L-12_H-768_A-12.zip\n",
            "replace uncased_L-12_H-768_A-12/bert_model.ckpt.meta? [y]es, [n]o, [A]ll, [N]one, [r]ename: n\n",
            "replace uncased_L-12_H-768_A-12/bert_model.ckpt.data-00000-of-00001? [y]es, [n]o, [A]ll, [N]one, [r]ename: n\n",
            "replace uncased_L-12_H-768_A-12/vocab.txt? [y]es, [n]o, [A]ll, [N]one, [r]ename: N\n"
          ]
        }
      ],
      "metadata": {
        "colab": {
          "base_uri": "https://localhost:8080/"
        },
        "id": "bCMPuPaZFtKU",
        "outputId": "3a478207-9208-4905-e5cb-03e8fd1e82ac"
      }
    },
    {
      "cell_type": "code",
      "execution_count": null,
      "source": [
        "os.makedirs(\"model\", exist_ok=True)\r\n"
      ],
      "outputs": [],
      "metadata": {
        "id": "gKzHr-iOFv_C"
      }
    },
    {
      "cell_type": "code",
      "execution_count": null,
      "source": [
        "!ls"
      ],
      "outputs": [
        {
          "output_type": "stream",
          "name": "stdout",
          "text": [
            "drive  sample_data\t\tuncased_L-12_H-768_A-12.zip\n",
            "model  uncased_L-12_H-768_A-12\tuncased_L-12_H-768_A-12.zip.1\n"
          ]
        }
      ],
      "metadata": {
        "colab": {
          "base_uri": "https://localhost:8080/"
        },
        "id": "J5nbJ6kZF0fk",
        "outputId": "23d3823f-88eb-4bc2-dcd5-fdd900611fcf"
      }
    },
    {
      "cell_type": "code",
      "execution_count": null,
      "source": [
        "!mv uncased_L-12_H-768_A-12/ model\r\n"
      ],
      "outputs": [],
      "metadata": {
        "id": "KWMXc3zbF1hJ"
      }
    },
    {
      "cell_type": "code",
      "execution_count": null,
      "source": [
        "!ls"
      ],
      "outputs": [
        {
          "output_type": "stream",
          "name": "stdout",
          "text": [
            "drive  sample_data\t\t    uncased_L-12_H-768_A-12.zip.1\n",
            "model  uncased_L-12_H-768_A-12.zip\n"
          ]
        }
      ],
      "metadata": {
        "colab": {
          "base_uri": "https://localhost:8080/"
        },
        "id": "Whsv1aRnF9lq",
        "outputId": "86663a29-344f-4214-f3d1-bc17c1ad6492"
      }
    },
    {
      "cell_type": "code",
      "execution_count": null,
      "source": [
        "\r\n",
        "bert_model_name=\"uncased_L-12_H-768_A-12\"\r\n",
        "\r\n",
        "bert_ckpt_dir = os.path.join(\"model/\", bert_model_name)\r\n",
        "bert_ckpt_file = os.path.join(bert_ckpt_dir, \"bert_model.ckpt\")\r\n",
        "bert_config_file = os.path.join(bert_ckpt_dir, \"bert_config.json\")"
      ],
      "outputs": [],
      "metadata": {
        "id": "0EGCNwdMF-pD"
      }
    },
    {
      "cell_type": "code",
      "execution_count": null,
      "source": [
        "#preprocessing \r\n",
        "class Classifier:\r\n",
        "  DATA_COLUMN = \"Sentence\"\r\n",
        "  LABEL_COLUMN = \"Label\"\r\n",
        "\r\n",
        "  def __init__(self, train, test, tokenizer: FullTokenizer, classes, max_seq_len=192):\r\n",
        "    self.tokenizer = tokenizer\r\n",
        "    self.max_seq_len = 0\r\n",
        "    self.classes = classes\r\n",
        "    \r\n",
        "    train, test = map(lambda df: df.reindex(df[Classifier.DATA_COLUMN].str.len().sort_values().index), [train, test])\r\n",
        "    \r\n",
        "    ((self.train_x, self.train_y), (self.test_x, self.test_y)) = map(self._prepare, [train, test])\r\n",
        "\r\n",
        "    print(\"max seq_len\", self.max_seq_len)\r\n",
        "    self.max_seq_len = min(self.max_seq_len, max_seq_len)\r\n",
        "    self.train_x, self.test_x = map(self._pad, [self.train_x, self.test_x])\r\n",
        "\r\n",
        "  def _prepare(self, df):\r\n",
        "    x, y = [], []\r\n",
        "    \r\n",
        "    for _, row in tqdm(df.iterrows()):\r\n",
        "      text, label = row[Classifier.DATA_COLUMN], row[Classifier.LABEL_COLUMN]\r\n",
        "      tokens = self.tokenizer.tokenize(text)\r\n",
        "      tokens = [\"[CLS]\"] + tokens + [\"[SEP]\"]\r\n",
        "      token_ids = self.tokenizer.convert_tokens_to_ids(tokens)\r\n",
        "      self.max_seq_len = max(self.max_seq_len, len(token_ids))\r\n",
        "      x.append(token_ids)\r\n",
        "      y.append(self.classes.index(label))\r\n",
        "\r\n",
        "    return np.array(x), np.array(y)\r\n",
        "\r\n",
        "  def _pad(self, ids):\r\n",
        "    x = []\r\n",
        "    for input_ids in ids:\r\n",
        "      input_ids = input_ids[:min(len(input_ids), self.max_seq_len - 2)]\r\n",
        "      input_ids = input_ids + [0] * (self.max_seq_len - len(input_ids))\r\n",
        "      x.append(np.array(input_ids))\r\n",
        "    return np.array(x)"
      ],
      "outputs": [],
      "metadata": {
        "id": "AcYj7RYqGxPf"
      }
    },
    {
      "cell_type": "code",
      "execution_count": null,
      "source": [
        "os.makedirs(\"/content/drive/MyDrive/SEBI /best_models/\", exist_ok=True)\r\n"
      ],
      "outputs": [],
      "metadata": {
        "id": "F-uyw7I1uWE4"
      }
    },
    {
      "cell_type": "code",
      "execution_count": null,
      "source": [
        "tokenizer = FullTokenizer(vocab_file=os.path.join(bert_ckpt_dir, \"vocab.txt\"))\r\n"
      ],
      "outputs": [],
      "metadata": {
        "id": "aFGvMWtaIcyK"
      }
    },
    {
      "cell_type": "code",
      "execution_count": null,
      "source": [
        "#tokens = tokenizer.tokenize(\"I can't wait to visit Bulgaria again!\")\r\n",
        "#tokenizer.convert_tokens_to_ids(tokens)"
      ],
      "outputs": [],
      "metadata": {
        "id": "OWRZHP7yIhiU"
      }
    },
    {
      "cell_type": "code",
      "execution_count": null,
      "source": [
        "def create_model(max_seq_len, bert_ckpt_file):\r\n",
        "\r\n",
        "  with tf.io.gfile.GFile(bert_config_file, \"r\") as reader:\r\n",
        "      bc = StockBertConfig.from_json_string(reader.read())\r\n",
        "      bert_params = map_stock_config_to_params(bc)\r\n",
        "      bert_params.adapter_size = None\r\n",
        "      bert = BertModelLayer.from_params(bert_params, name=\"bert\")\r\n",
        "        \r\n",
        "  input_ids = keras.layers.Input(shape=(max_seq_len, ), dtype='int32', name=\"input_ids\")\r\n",
        "  bert_output = bert(input_ids)\r\n",
        "\r\n",
        "  print(\"bert shape\", bert_output.shape)\r\n",
        "\r\n",
        "  cls_out = keras.layers.Lambda(lambda seq: seq[:, 0, :])(bert_output)\r\n",
        "  cls_out = keras.layers.Dropout(0.5)(cls_out)\r\n",
        "  logits = keras.layers.Dense(units=len(classes), activation=\"softmax\")(cls_out)\r\n",
        "\r\n",
        "  model = keras.Model(inputs=input_ids, outputs=logits)\r\n",
        "  model.build(input_shape=(None, max_seq_len))\r\n",
        "\r\n",
        "  load_stock_weights(bert, bert_ckpt_file)\r\n",
        "        \r\n",
        "  return model"
      ],
      "outputs": [],
      "metadata": {
        "id": "N9kYDRNkIl4F"
      }
    },
    {
      "cell_type": "code",
      "execution_count": null,
      "source": [
        "\r\n",
        "classes = train.Label.unique().tolist()\r\n",
        "for num,classname in enumerate(classes):\r\n",
        "  print(num,classname,end='\\n')"
      ],
      "outputs": [
        {
          "output_type": "stream",
          "name": "stdout",
          "text": [
            "0 material fact\n",
            "1 violation\n",
            "2 procedural fact\n",
            "3 allegation\n",
            "4 issues framed\n",
            "5 statutory fact\n",
            "6 defendant claim\n",
            "7 subjective observation\n",
            "8 related fact\n",
            "9 penalty\n",
            "10 others\n"
          ]
        }
      ],
      "metadata": {
        "colab": {
          "base_uri": "https://localhost:8080/"
        },
        "id": "kZ_KU07hItIh",
        "outputId": "4c7da9d5-bd09-4324-90ea-f06b4da0b678"
      }
    },
    {
      "cell_type": "code",
      "execution_count": null,
      "source": [
        "data = Classifier(train, test, tokenizer, classes, max_seq_len=128)\r\n"
      ],
      "outputs": [
        {
          "output_type": "stream",
          "name": "stderr",
          "text": [
            "2335it [00:02, 995.36it/s]\n",
            "/usr/local/lib/python3.7/dist-packages/ipykernel_launcher.py:31: VisibleDeprecationWarning: Creating an ndarray from ragged nested sequences (which is a list-or-tuple of lists-or-tuples-or ndarrays with different lengths or shapes) is deprecated. If you meant to do this, you must specify 'dtype=object' when creating the ndarray\n",
            "609it [00:00, 1033.25it/s]\n"
          ]
        },
        {
          "output_type": "stream",
          "name": "stdout",
          "text": [
            "max seq_len 308\n"
          ]
        }
      ],
      "metadata": {
        "colab": {
          "base_uri": "https://localhost:8080/"
        },
        "id": "wpYJqq0VJo44",
        "outputId": "dac2523f-e7e2-43bf-91fe-88fe42db12bd"
      }
    },
    {
      "cell_type": "code",
      "execution_count": null,
      "source": [
        "data.test_x.shape\r\n"
      ],
      "outputs": [
        {
          "output_type": "execute_result",
          "data": {
            "text/plain": [
              "(609, 128)"
            ]
          },
          "metadata": {
            "tags": []
          },
          "execution_count": 51
        }
      ],
      "metadata": {
        "colab": {
          "base_uri": "https://localhost:8080/"
        },
        "id": "0zTY_dPpJ52F",
        "outputId": "02645799-fa8c-4b44-81d4-2096d9aef308"
      }
    },
    {
      "cell_type": "code",
      "execution_count": null,
      "source": [
        "data.train_x[0]\r\n"
      ],
      "outputs": [
        {
          "output_type": "execute_result",
          "data": {
            "text/plain": [
              "array([ 101, 1049, 1055, 1012,  102,    0,    0,    0,    0,    0,    0,\n",
              "          0,    0,    0,    0,    0,    0,    0,    0,    0,    0,    0,\n",
              "          0,    0,    0,    0,    0,    0,    0,    0,    0,    0,    0,\n",
              "          0,    0,    0,    0,    0,    0,    0,    0,    0,    0,    0,\n",
              "          0,    0,    0,    0,    0,    0,    0,    0,    0,    0,    0,\n",
              "          0,    0,    0,    0,    0,    0,    0,    0,    0,    0,    0,\n",
              "          0,    0,    0,    0,    0,    0,    0,    0,    0,    0,    0,\n",
              "          0,    0,    0,    0,    0,    0,    0,    0,    0,    0,    0,\n",
              "          0,    0,    0,    0,    0,    0,    0,    0,    0,    0,    0,\n",
              "          0,    0,    0,    0,    0,    0,    0,    0,    0,    0,    0,\n",
              "          0,    0,    0,    0,    0,    0,    0,    0,    0,    0,    0,\n",
              "          0,    0,    0,    0,    0,    0,    0])"
            ]
          },
          "metadata": {
            "tags": []
          },
          "execution_count": 52
        }
      ],
      "metadata": {
        "colab": {
          "base_uri": "https://localhost:8080/"
        },
        "id": "VH8lHc5vKYHr",
        "outputId": "674f350e-5652-4bbf-c8aa-fcdecd915a38"
      }
    },
    {
      "cell_type": "code",
      "execution_count": null,
      "source": [
        "data.train_y[2]\r\n"
      ],
      "outputs": [
        {
          "output_type": "execute_result",
          "data": {
            "text/plain": [
              "10"
            ]
          },
          "metadata": {
            "tags": []
          },
          "execution_count": 53
        }
      ],
      "metadata": {
        "colab": {
          "base_uri": "https://localhost:8080/"
        },
        "id": "VHk5OSTXKhu6",
        "outputId": "d454c969-5577-4f4b-ace2-71ebeac0e070"
      }
    },
    {
      "cell_type": "code",
      "execution_count": null,
      "source": [
        "model = create_model(data.max_seq_len, bert_ckpt_file)\r\n"
      ],
      "outputs": [
        {
          "output_type": "stream",
          "name": "stdout",
          "text": [
            "bert shape (None, 128, 768)\n",
            "Done loading 196 BERT weights from: model/uncased_L-12_H-768_A-12/bert_model.ckpt into <bert.model.BertModelLayer object at 0x7f64e780dcd0> (prefix:bert). Count of weights not found in the checkpoint was: [0]. Count of weights with mismatched shape: [0]\n",
            "Unused weights from checkpoint: \n",
            "\tbert/embeddings/token_type_embeddings\n",
            "\tbert/pooler/dense/bias\n",
            "\tbert/pooler/dense/kernel\n",
            "\tcls/predictions/output_bias\n",
            "\tcls/predictions/transform/LayerNorm/beta\n",
            "\tcls/predictions/transform/LayerNorm/gamma\n",
            "\tcls/predictions/transform/dense/bias\n",
            "\tcls/predictions/transform/dense/kernel\n",
            "\tcls/seq_relationship/output_bias\n",
            "\tcls/seq_relationship/output_weights\n"
          ]
        }
      ],
      "metadata": {
        "colab": {
          "base_uri": "https://localhost:8080/"
        },
        "id": "AolOUUdiKmTq",
        "outputId": "bc958d9b-a783-45a3-be38-365e595a8963"
      }
    },
    {
      "cell_type": "code",
      "execution_count": null,
      "source": [
        "model.summary()"
      ],
      "outputs": [
        {
          "output_type": "stream",
          "name": "stdout",
          "text": [
            "Model: \"model\"\n",
            "_________________________________________________________________\n",
            "Layer (type)                 Output Shape              Param #   \n",
            "=================================================================\n",
            "input_ids (InputLayer)       [(None, 128)]             0         \n",
            "_________________________________________________________________\n",
            "bert (BertModelLayer)        (None, 128, 768)          108890112 \n",
            "_________________________________________________________________\n",
            "lambda (Lambda)              (None, 768)               0         \n",
            "_________________________________________________________________\n",
            "dropout (Dropout)            (None, 768)               0         \n",
            "_________________________________________________________________\n",
            "dense (Dense)                (None, 11)                8459      \n",
            "=================================================================\n",
            "Total params: 108,898,571\n",
            "Trainable params: 108,898,571\n",
            "Non-trainable params: 0\n",
            "_________________________________________________________________\n"
          ]
        }
      ],
      "metadata": {
        "colab": {
          "base_uri": "https://localhost:8080/"
        },
        "id": "V4LTGSifKpG2",
        "outputId": "9f0f7b02-04bd-4473-9559-8e0d8173e7c1"
      }
    },
    {
      "cell_type": "code",
      "execution_count": null,
      "source": [
        "\r\n",
        "model.compile(\r\n",
        "  optimizer=keras.optimizers.Adam(1e-5),\r\n",
        "  loss=keras.losses.SparseCategoricalCrossentropy(from_logits=True),\r\n",
        "  metrics=[keras.metrics.SparseCategoricalAccuracy(name=\"acc\")]\r\n",
        ")"
      ],
      "outputs": [],
      "metadata": {
        "id": "05tAKvIwKsyr"
      }
    },
    {
      "cell_type": "code",
      "execution_count": null,
      "source": [
        "from keras.callbacks import EarlyStopping, ModelCheckpoint \r\n",
        "\r\n",
        "my_callbacks = [EarlyStopping(patience=2, monitor=\"val_acc\"),  ModelCheckpoint(filepath='/content/drive/MyDrive/SEBI /best_models/model_no_context_all.hdf5', save_best_only=True, save_weights_only = False, monitor='val_loss', mode='auto',save_freq = 'epoch')]\r\n",
        "\r\n"
      ],
      "outputs": [],
      "metadata": {
        "id": "JnbeyRSPdE6x"
      }
    },
    {
      "cell_type": "code",
      "execution_count": null,
      "source": [
        "\r\n",
        "\r\n",
        "history = model.fit(\r\n",
        "  x=data.train_x, \r\n",
        "  y=data.train_y,\r\n",
        "  validation_split=0.1,\r\n",
        "  batch_size=32,\r\n",
        "  shuffle=True,\r\n",
        "  epochs = 10,\r\n",
        "  callbacks = my_callbacks\r\n",
        ")"
      ],
      "outputs": [
        {
          "output_type": "stream",
          "name": "stdout",
          "text": [
            "Epoch 1/10\n",
            "66/66 [==============================] - 2947s 45s/step - loss: 1.6609 - acc: 0.4108 - val_loss: 1.3210 - val_acc: 0.6068\n",
            "Epoch 2/10\n",
            "66/66 [==============================] - 2938s 44s/step - loss: 1.1696 - acc: 0.5916 - val_loss: 0.8818 - val_acc: 0.7308\n",
            "Epoch 3/10\n",
            "66/66 [==============================] - 2971s 45s/step - loss: 0.8897 - acc: 0.6906 - val_loss: 0.6794 - val_acc: 0.7906\n",
            "Epoch 4/10\n",
            "66/66 [==============================] - 2977s 45s/step - loss: 0.7197 - acc: 0.7573 - val_loss: 0.5966 - val_acc: 0.8333\n",
            "Epoch 5/10\n",
            "66/66 [==============================] - 2981s 45s/step - loss: 0.5589 - acc: 0.7991 - val_loss: 0.5980 - val_acc: 0.7991\n",
            "Epoch 6/10\n",
            "66/66 [==============================] - 2957s 45s/step - loss: 0.4552 - acc: 0.8406 - val_loss: 0.5888 - val_acc: 0.8162\n"
          ]
        }
      ],
      "metadata": {
        "colab": {
          "background_save": true,
          "base_uri": "https://localhost:8080/"
        },
        "id": "rTHj3zohLBzk",
        "outputId": "1cf5d2b9-e90a-4832-e7e1-80a17d86cab5"
      }
    },
    {
      "cell_type": "markdown",
      "source": [],
      "metadata": {
        "id": "g_WwhxrZ5i9D"
      }
    },
    {
      "cell_type": "code",
      "execution_count": null,
      "source": [
        "_, train_acc = model.evaluate(data.train_x, data.train_y)\r\n",
        "_, test_acc = model.evaluate(data.test_x, data.test_y)\r\n",
        "\r\n",
        "print(\"train acc\", train_acc)\r\n",
        "print(\"test acc\", test_acc)"
      ],
      "outputs": [],
      "metadata": {
        "id": "nPDM_OGWOobu"
      }
    },
    {
      "cell_type": "code",
      "execution_count": null,
      "source": [
        "model = "
      ],
      "outputs": [],
      "metadata": {
        "id": "Inb1Y60dgsgY"
      }
    },
    {
      "cell_type": "code",
      "execution_count": null,
      "source": [
        "y_pred = model.predict(data.test_x).argmax(axis=-1)\r\n"
      ],
      "outputs": [],
      "metadata": {
        "id": "EjymbYBdsIPm"
      }
    },
    {
      "cell_type": "code",
      "execution_count": null,
      "source": [
        "print(classification_report(data.test_y, y_pred, target_names=classes))\r\n"
      ],
      "outputs": [],
      "metadata": {
        "id": "pNbOI0gksLjU"
      }
    }
  ]
}