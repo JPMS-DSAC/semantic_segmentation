{
  "nbformat": 4,
  "nbformat_minor": 2,
  "metadata": {
    "colab": {
      "name": "left_right_context_model_alternate.ipynb",
      "provenance": [],
      "collapsed_sections": [],
      "mount_file_id": "1Or55t1EafsCuturvOp4ME0mfozwHXD4M",
      "authorship_tag": "ABX9TyNCuYHO5Q3QcLWMlFxLRQsy"
    },
    "kernelspec": {
      "name": "python3",
      "display_name": "Python 3.8.5 64-bit ('base': conda)"
    },
    "language_info": {
      "name": "python",
      "version": "3.8.5",
      "mimetype": "text/x-python",
      "codemirror_mode": {
        "name": "ipython",
        "version": 3
      },
      "pygments_lexer": "ipython3",
      "nbconvert_exporter": "python",
      "file_extension": ".py"
    },
    "accelerator": "GPU",
    "interpreter": {
      "hash": "37b255bb5dc0d995b91bd1b934b878e610a26475f52eafaf29fdb395fb105534"
    }
  },
  "cells": [
    {
      "cell_type": "code",
      "execution_count": 3,
      "source": [
        "#creating extra data from current files  \r\n",
        "\r\n",
        "import pandas as pd\r\n",
        "import os\r\n",
        "from datetime import datetime\r\n",
        "from packaging import version\r\n",
        "from keras.callbacks import EarlyStopping, ModelCheckpoint \r\n",
        "import tensorboard"
      ],
      "outputs": [],
      "metadata": {
        "id": "tGm2HhCQoJQA"
      }
    },
    {
      "cell_type": "code",
      "execution_count": 4,
      "source": [
        "root_path = ''\r\n",
        "list_of_files = []\r\n",
        "for root, dir,files in os.walk('/content/drive/MyDrive/SEBI /Adjudication Orders Annotations JSON/Model Data Context'):\r\n",
        "  root_path = root\r\n",
        "  list_of_files = files\r\n",
        "  break \r\n"
      ],
      "outputs": [],
      "metadata": {
        "id": "gVYg4R0XoWrY"
      }
    },
    {
      "cell_type": "code",
      "execution_count": 5,
      "source": [
        "all_dataframes = []\r\n",
        "for filename in list_of_files:\r\n",
        "  file_path = root_path + '/' + filename\r\n",
        "  file_temp = pd.read_csv(file_path)\r\n",
        "  #print(file_temp.shape)\r\n",
        "  temp_left = file_temp['Sentence']\r\n",
        "  empty_left_first = pd.Series(' ')\r\n",
        "  #print(type(temp_left))\r\n",
        "  #print(empty_left_first.shape)\r\n",
        "  file_temp['context_left'] = empty_left_first.append(temp_left,ignore_index=True)[:-1]\r\n",
        "  #print(file_temp.head())\r\n",
        "  temp_right = file_temp['Sentence'][1:]\r\n",
        "  #print(len(file_temp))\r\n",
        "  empty_right = pd.Series(' ')\r\n",
        "  file_temp['context_right'] = temp_right.append(empty_right,ignore_index=True)\r\n",
        "  print(file_temp.iloc[-1])\r\n",
        "  all_dataframes.append(file_temp)\r\n",
        "\r\n",
        "\r\n",
        "  \r\n",
        "\r\n",
        "\r\n",
        "  "
      ],
      "outputs": [],
      "metadata": {
        "colab": {
          "base_uri": "https://localhost:8080/"
        },
        "id": "3iSGn-SeoY8n",
        "outputId": "db11c12c-5d80-4163-987c-7bacd07314dc"
      }
    },
    {
      "cell_type": "code",
      "execution_count": null,
      "source": [
        "all_dataframes[0].head()"
      ],
      "outputs": [
        {
          "output_type": "execute_result",
          "data": {
            "text/plain": [
              "         Sentence ID  ...                                      context_right\n",
              "0  F1312279794560_S1  ...  The Investigation, inter alia, revealed that t...\n",
              "1  F1312279794560_S2  ...  On August 07, 2009 the managers to the offer o...\n",
              "2  F1312279794560_S3  ...  According to the Code of Conduct framed and ap...\n",
              "3  F1312279794560_S4  ...  However, SIPL has No introduced any trading wi...\n",
              "4  F1312279794560_S5  ...  Shri K. L. Surana, (Noticee No 1) was the Comp...\n",
              "\n",
              "[5 rows x 5 columns]"
            ],
            "text/html": [
              "<div>\n",
              "<style scoped>\n",
              "    .dataframe tbody tr th:only-of-type {\n",
              "        vertical-align: middle;\n",
              "    }\n",
              "\n",
              "    .dataframe tbody tr th {\n",
              "        vertical-align: top;\n",
              "    }\n",
              "\n",
              "    .dataframe thead th {\n",
              "        text-align: right;\n",
              "    }\n",
              "</style>\n",
              "<table border=\"1\" class=\"dataframe\">\n",
              "  <thead>\n",
              "    <tr style=\"text-align: right;\">\n",
              "      <th></th>\n",
              "      <th>Sentence ID</th>\n",
              "      <th>Label</th>\n",
              "      <th>Sentence</th>\n",
              "      <th>context_left</th>\n",
              "      <th>context_right</th>\n",
              "    </tr>\n",
              "  </thead>\n",
              "  <tbody>\n",
              "    <tr>\n",
              "      <th>0</th>\n",
              "      <td>F1312279794560_S1</td>\n",
              "      <td>material fact</td>\n",
              "      <td>Securities and Exchange Board of India (herein...</td>\n",
              "      <td></td>\n",
              "      <td>The Investigation, inter alia, revealed that t...</td>\n",
              "    </tr>\n",
              "    <tr>\n",
              "      <th>1</th>\n",
              "      <td>F1312279794560_S2</td>\n",
              "      <td>material fact</td>\n",
              "      <td>The Investigation, inter alia, revealed that t...</td>\n",
              "      <td>Securities and Exchange Board of India (herein...</td>\n",
              "      <td>On August 07, 2009 the managers to the offer o...</td>\n",
              "    </tr>\n",
              "    <tr>\n",
              "      <th>2</th>\n",
              "      <td>F1312279794560_S3</td>\n",
              "      <td>material fact</td>\n",
              "      <td>On August 07, 2009 the managers to the offer o...</td>\n",
              "      <td>The Investigation, inter alia, revealed that t...</td>\n",
              "      <td>According to the Code of Conduct framed and ap...</td>\n",
              "    </tr>\n",
              "    <tr>\n",
              "      <th>3</th>\n",
              "      <td>F1312279794560_S4</td>\n",
              "      <td>statutory fact</td>\n",
              "      <td>According to the Code of Conduct framed and ap...</td>\n",
              "      <td>On August 07, 2009 the managers to the offer o...</td>\n",
              "      <td>However, SIPL has No introduced any trading wi...</td>\n",
              "    </tr>\n",
              "    <tr>\n",
              "      <th>4</th>\n",
              "      <td>F1312279794560_S5</td>\n",
              "      <td>material fact</td>\n",
              "      <td>However, SIPL has No introduced any trading wi...</td>\n",
              "      <td>According to the Code of Conduct framed and ap...</td>\n",
              "      <td>Shri K. L. Surana, (Noticee No 1) was the Comp...</td>\n",
              "    </tr>\n",
              "  </tbody>\n",
              "</table>\n",
              "</div>"
            ]
          },
          "metadata": {
            "tags": []
          },
          "execution_count": 5
        }
      ],
      "metadata": {
        "colab": {
          "base_uri": "https://localhost:8080/",
          "height": 255
        },
        "id": "8DUShph8ueDM",
        "outputId": "14106433-aa5a-4aa2-db76-4f2dd8d9d55e"
      }
    },
    {
      "cell_type": "code",
      "execution_count": null,
      "source": [
        "!pip install bert-for-tf2 "
      ],
      "outputs": [
        {
          "output_type": "stream",
          "name": "stdout",
          "text": [
            "Collecting bert-for-tf2\n",
            "\u001b[?25l  Downloading https://files.pythonhosted.org/packages/a5/a1/acb891630749c56901e770a34d6bac8a509a367dd74a05daf7306952e910/bert-for-tf2-0.14.9.tar.gz (41kB)\n",
            "\r\u001b[K     |████████                        | 10kB 18.3MB/s eta 0:00:01\r\u001b[K     |████████████████                | 20kB 23.0MB/s eta 0:00:01\r\u001b[K     |███████████████████████▉        | 30kB 18.2MB/s eta 0:00:01\r\u001b[K     |███████████████████████████████▉| 40kB 15.7MB/s eta 0:00:01\r\u001b[K     |████████████████████████████████| 51kB 4.8MB/s \n",
            "\u001b[?25hCollecting py-params>=0.9.6\n",
            "  Downloading https://files.pythonhosted.org/packages/aa/e0/4f663d8abf83c8084b75b995bd2ab3a9512ebc5b97206fde38cef906ab07/py-params-0.10.2.tar.gz\n",
            "Collecting params-flow>=0.8.0\n",
            "  Downloading https://files.pythonhosted.org/packages/a9/95/ff49f5ebd501f142a6f0aaf42bcfd1c192dc54909d1d9eb84ab031d46056/params-flow-0.8.2.tar.gz\n",
            "Requirement already satisfied: numpy in /usr/local/lib/python3.7/dist-packages (from params-flow>=0.8.0->bert-for-tf2) (1.19.5)\n",
            "Requirement already satisfied: tqdm in /usr/local/lib/python3.7/dist-packages (from params-flow>=0.8.0->bert-for-tf2) (4.41.1)\n",
            "Building wheels for collected packages: bert-for-tf2, py-params, params-flow\n",
            "  Building wheel for bert-for-tf2 (setup.py) ... \u001b[?25l\u001b[?25hdone\n",
            "  Created wheel for bert-for-tf2: filename=bert_for_tf2-0.14.9-cp37-none-any.whl size=30535 sha256=df23fadb958206dcf1b2f6ad5c6c750b9289238de00d79e14bdf623f936debfd\n",
            "  Stored in directory: /root/.cache/pip/wheels/a1/04/ee/347bd9f5b821b637c76411d280271a857aece00358896a230f\n",
            "  Building wheel for py-params (setup.py) ... \u001b[?25l\u001b[?25hdone\n",
            "  Created wheel for py-params: filename=py_params-0.10.2-cp37-none-any.whl size=7912 sha256=7a901f1aca3a5f4fd2caa7c44234d9116b8201150f5335e393c345f425c40b05\n",
            "  Stored in directory: /root/.cache/pip/wheels/d0/4a/70/ff12450229ff1955abf01f365051d4faae1c20aef53ab4cf09\n",
            "  Building wheel for params-flow (setup.py) ... \u001b[?25l\u001b[?25hdone\n",
            "  Created wheel for params-flow: filename=params_flow-0.8.2-cp37-none-any.whl size=19472 sha256=1b6023e025ab34b87a691abded9b1fedc8d85116cb1cea652fd2cd5bc7d4e071\n",
            "  Stored in directory: /root/.cache/pip/wheels/08/c8/7f/81c86b9ff2b86e2c477e3914175be03e679e596067dc630c06\n",
            "Successfully built bert-for-tf2 py-params params-flow\n",
            "Installing collected packages: py-params, params-flow, bert-for-tf2\n",
            "Successfully installed bert-for-tf2-0.14.9 params-flow-0.8.2 py-params-0.10.2\n"
          ]
        }
      ],
      "metadata": {
        "colab": {
          "base_uri": "https://localhost:8080/"
        },
        "id": "FGn6nH6ZugXv",
        "outputId": "ba34f7b1-91ad-4b47-9a47-2edc49d2e98b"
      }
    },
    {
      "cell_type": "code",
      "execution_count": null,
      "source": [
        "\r\n",
        "from tqdm import tqdm\r\n",
        "import numpy as np\r\n",
        "import tensorflow as tf\r\n",
        "from tensorflow import keras\r\n",
        "import bert\r\n",
        "from bert import BertModelLayer\r\n",
        "from bert.loader import StockBertConfig, map_stock_config_to_params, load_stock_weights\r\n",
        "from bert.tokenization.bert_tokenization import FullTokenizer"
      ],
      "outputs": [],
      "metadata": {
        "id": "6rfZbuDju5WM"
      }
    },
    {
      "cell_type": "code",
      "execution_count": null,
      "source": [
        "from sklearn.metrics import confusion_matrix, classification_report"
      ],
      "outputs": [],
      "metadata": {
        "id": "x-KMShW5u8eG"
      }
    },
    {
      "cell_type": "code",
      "execution_count": null,
      "source": [
        "result = pd.DataFrame()\r\n",
        "result = result.append(all_dataframes,ignore_index=True)"
      ],
      "outputs": [],
      "metadata": {
        "id": "Zofd5s8yu-wQ"
      }
    },
    {
      "cell_type": "code",
      "execution_count": null,
      "source": [
        "train_data = pd.DataFrame(columns= result.columns)\r\n",
        "test_data = pd.DataFrame(columns=result.columns)\r\n",
        "for label in result.Label.unique():\r\n",
        "  temp_df = result[result['Label'] == label]\r\n",
        "  train_index = int(temp_df.shape[0]*0.793)\r\n",
        "  train_data = train_data.append(temp_df[:train_index])\r\n",
        "  test_data = test_data.append(temp_df[train_index:])\r\n",
        "  \r\n",
        "  "
      ],
      "outputs": [],
      "metadata": {
        "id": "xFZqENusvEOI"
      }
    },
    {
      "cell_type": "code",
      "execution_count": null,
      "source": [
        "train_data.drop(columns = ['Sentence ID'],axis=1,inplace=True)\r\n",
        "test_data.drop(columns = ['Sentence ID'],axis=1, inplace=True)"
      ],
      "outputs": [],
      "metadata": {
        "id": "Cq0lbc9ZvUSc"
      }
    },
    {
      "cell_type": "code",
      "execution_count": null,
      "source": [
        "train_data.head()"
      ],
      "outputs": [
        {
          "output_type": "execute_result",
          "data": {
            "text/plain": [
              "           Label  ...                                      context_right\n",
              "0  material fact  ...  The Investigation, inter alia, revealed that t...\n",
              "1  material fact  ...  On August 07, 2009 the managers to the offer o...\n",
              "2  material fact  ...  According to the Code of Conduct framed and ap...\n",
              "4  material fact  ...  Shri K. L. Surana, (Noticee No 1) was the Comp...\n",
              "5  material fact  ...  Allegedly the trading window remained open dur...\n",
              "\n",
              "[5 rows x 4 columns]"
            ],
            "text/html": [
              "<div>\n",
              "<style scoped>\n",
              "    .dataframe tbody tr th:only-of-type {\n",
              "        vertical-align: middle;\n",
              "    }\n",
              "\n",
              "    .dataframe tbody tr th {\n",
              "        vertical-align: top;\n",
              "    }\n",
              "\n",
              "    .dataframe thead th {\n",
              "        text-align: right;\n",
              "    }\n",
              "</style>\n",
              "<table border=\"1\" class=\"dataframe\">\n",
              "  <thead>\n",
              "    <tr style=\"text-align: right;\">\n",
              "      <th></th>\n",
              "      <th>Label</th>\n",
              "      <th>Sentence</th>\n",
              "      <th>context_left</th>\n",
              "      <th>context_right</th>\n",
              "    </tr>\n",
              "  </thead>\n",
              "  <tbody>\n",
              "    <tr>\n",
              "      <th>0</th>\n",
              "      <td>material fact</td>\n",
              "      <td>Securities and Exchange Board of India (herein...</td>\n",
              "      <td></td>\n",
              "      <td>The Investigation, inter alia, revealed that t...</td>\n",
              "    </tr>\n",
              "    <tr>\n",
              "      <th>1</th>\n",
              "      <td>material fact</td>\n",
              "      <td>The Investigation, inter alia, revealed that t...</td>\n",
              "      <td>Securities and Exchange Board of India (herein...</td>\n",
              "      <td>On August 07, 2009 the managers to the offer o...</td>\n",
              "    </tr>\n",
              "    <tr>\n",
              "      <th>2</th>\n",
              "      <td>material fact</td>\n",
              "      <td>On August 07, 2009 the managers to the offer o...</td>\n",
              "      <td>The Investigation, inter alia, revealed that t...</td>\n",
              "      <td>According to the Code of Conduct framed and ap...</td>\n",
              "    </tr>\n",
              "    <tr>\n",
              "      <th>4</th>\n",
              "      <td>material fact</td>\n",
              "      <td>However, SIPL has No introduced any trading wi...</td>\n",
              "      <td>According to the Code of Conduct framed and ap...</td>\n",
              "      <td>Shri K. L. Surana, (Noticee No 1) was the Comp...</td>\n",
              "    </tr>\n",
              "    <tr>\n",
              "      <th>5</th>\n",
              "      <td>material fact</td>\n",
              "      <td>Shri K. L. Surana, (Noticee No 1) was the Comp...</td>\n",
              "      <td>However, SIPL has No introduced any trading wi...</td>\n",
              "      <td>Allegedly the trading window remained open dur...</td>\n",
              "    </tr>\n",
              "  </tbody>\n",
              "</table>\n",
              "</div>"
            ]
          },
          "metadata": {
            "tags": []
          },
          "execution_count": 12
        }
      ],
      "metadata": {
        "colab": {
          "base_uri": "https://localhost:8080/",
          "height": 204
        },
        "id": "k2dLnXArvdTG",
        "outputId": "42bdc773-c23c-4f2f-fac3-ca75d459d050"
      }
    },
    {
      "cell_type": "code",
      "execution_count": null,
      "source": [
        "train_data['Label'].value_counts()"
      ],
      "outputs": [
        {
          "output_type": "execute_result",
          "data": {
            "text/plain": [
              "defendant claim           471\n",
              "material fact             429\n",
              "procedural fact           254\n",
              "subjective observation    225\n",
              "statutory fact            148\n",
              "issues framed              75\n",
              "related fact               68\n",
              "allegation                 65\n",
              "penalty                    33\n",
              "violation                  24\n",
              "Name: Label, dtype: int64"
            ]
          },
          "metadata": {
            "tags": []
          },
          "execution_count": 13
        }
      ],
      "metadata": {
        "colab": {
          "base_uri": "https://localhost:8080/"
        },
        "id": "2C9IsRmDvss7",
        "outputId": "4f4b4ccf-d2f9-4841-9e9f-fc127f59273e"
      }
    },
    {
      "cell_type": "code",
      "execution_count": null,
      "source": [
        "test_data['Label'].value_counts()"
      ],
      "outputs": [
        {
          "output_type": "execute_result",
          "data": {
            "text/plain": [
              "defendant claim           123\n",
              "material fact             113\n",
              "procedural fact            67\n",
              "subjective observation     59\n",
              "statutory fact             39\n",
              "issues framed              20\n",
              "related fact               18\n",
              "allegation                 17\n",
              "penalty                     9\n",
              "violation                   7\n",
              "Name: Label, dtype: int64"
            ]
          },
          "metadata": {
            "tags": []
          },
          "execution_count": 14
        }
      ],
      "metadata": {
        "colab": {
          "base_uri": "https://localhost:8080/"
        },
        "id": "T4cV4EDIwEDV",
        "outputId": "d8320604-8a09-4b3d-9282-6befeef26b33"
      }
    },
    {
      "cell_type": "code",
      "execution_count": null,
      "source": [
        "!wget https://storage.googleapis.com/bert_models/2018_10_18/uncased_L-12_H-768_A-12.zip\r\n"
      ],
      "outputs": [
        {
          "output_type": "stream",
          "name": "stdout",
          "text": [
            "--2021-04-19 09:53:24--  https://storage.googleapis.com/bert_models/2018_10_18/uncased_L-12_H-768_A-12.zip\n",
            "Resolving storage.googleapis.com (storage.googleapis.com)... 66.102.1.128, 142.251.5.128, 74.125.206.128, ...\n",
            "Connecting to storage.googleapis.com (storage.googleapis.com)|66.102.1.128|:443... connected.\n",
            "HTTP request sent, awaiting response... 200 OK\n",
            "Length: 407727028 (389M) [application/zip]\n",
            "Saving to: ‘uncased_L-12_H-768_A-12.zip’\n",
            "\n",
            "uncased_L-12_H-768_ 100%[===================>] 388.84M  82.6MB/s    in 5.5s    \n",
            "\n",
            "2021-04-19 09:53:30 (70.2 MB/s) - ‘uncased_L-12_H-768_A-12.zip’ saved [407727028/407727028]\n",
            "\n"
          ]
        }
      ],
      "metadata": {
        "colab": {
          "base_uri": "https://localhost:8080/"
        },
        "id": "O7U0gmF1wKax",
        "outputId": "75f5fd04-bf96-4939-be69-64bfbffd2b2c"
      }
    },
    {
      "cell_type": "code",
      "execution_count": null,
      "source": [
        "!unzip uncased_L-12_H-768_A-12.zip"
      ],
      "outputs": [
        {
          "output_type": "stream",
          "name": "stdout",
          "text": [
            "Archive:  uncased_L-12_H-768_A-12.zip\n",
            "   creating: uncased_L-12_H-768_A-12/\n",
            "  inflating: uncased_L-12_H-768_A-12/bert_model.ckpt.meta  \n",
            "  inflating: uncased_L-12_H-768_A-12/bert_model.ckpt.data-00000-of-00001  \n",
            "  inflating: uncased_L-12_H-768_A-12/vocab.txt  \n",
            "  inflating: uncased_L-12_H-768_A-12/bert_model.ckpt.index  \n",
            "  inflating: uncased_L-12_H-768_A-12/bert_config.json  \n"
          ]
        }
      ],
      "metadata": {
        "colab": {
          "base_uri": "https://localhost:8080/"
        },
        "id": "KghdPB3LwWxh",
        "outputId": "9d152c98-cf7a-44e5-eaab-fc6167377f99"
      }
    },
    {
      "cell_type": "code",
      "execution_count": null,
      "source": [
        "os.makedirs(\"model\", exist_ok=True)\r\n"
      ],
      "outputs": [],
      "metadata": {
        "id": "okW2l0rSwZBE"
      }
    },
    {
      "cell_type": "code",
      "execution_count": null,
      "source": [
        "!mv uncased_L-12_H-768_A-12/ model\r\n"
      ],
      "outputs": [],
      "metadata": {
        "id": "VmaaFbGBwbOD"
      }
    },
    {
      "cell_type": "code",
      "execution_count": null,
      "source": [
        "\r\n",
        "bert_model_name=\"uncased_L-12_H-768_A-12\"\r\n",
        "\r\n",
        "bert_ckpt_dir = os.path.join(\"model/\", bert_model_name)\r\n",
        "bert_ckpt_file = os.path.join(bert_ckpt_dir, \"bert_model.ckpt\")\r\n",
        "bert_config_file = os.path.join(bert_ckpt_dir, \"bert_config.json\")"
      ],
      "outputs": [],
      "metadata": {
        "id": "9dD5E0CpwdGd"
      }
    },
    {
      "cell_type": "code",
      "execution_count": null,
      "source": [
        "classes = train_data.Label.unique().tolist()\r\n",
        "classes"
      ],
      "outputs": [
        {
          "output_type": "execute_result",
          "data": {
            "text/plain": [
              "['material fact',\n",
              " 'statutory fact',\n",
              " 'allegation',\n",
              " 'violation',\n",
              " 'procedural fact',\n",
              " 'subjective observation',\n",
              " 'defendant claim',\n",
              " 'issues framed',\n",
              " 'related fact',\n",
              " 'penalty']"
            ]
          },
          "metadata": {
            "tags": []
          },
          "execution_count": 20
        }
      ],
      "metadata": {
        "colab": {
          "base_uri": "https://localhost:8080/"
        },
        "id": "Nf3fAnjjwfXh",
        "outputId": "b8ec498c-af88-444e-d392-0f2033a8b433"
      }
    },
    {
      "cell_type": "code",
      "execution_count": null,
      "source": [
        "tokenizer = FullTokenizer(vocab_file=os.path.join(bert_ckpt_dir, \"vocab.txt\"))\r\n"
      ],
      "outputs": [],
      "metadata": {
        "id": "xvYRFqKIwhiq"
      }
    },
    {
      "cell_type": "code",
      "execution_count": null,
      "source": [
        "train_data['context_left'].isnull"
      ],
      "outputs": [
        {
          "output_type": "execute_result",
          "data": {
            "text/plain": [
              "<bound method Series.isnull of 0                                                       \n",
              "1      Securities and Exchange Board of India (herein...\n",
              "2      The Investigation, inter alia, revealed that t...\n",
              "4      According to the Code of Conduct framed and ap...\n",
              "5      However, SIPL has No introduced any trading wi...\n",
              "                             ...                        \n",
              "911    Having considered all the facts and circumstan...\n",
              "972    In view of the conclusions arrived at paras 20...\n",
              "973     From the conclusions arrived at para 24 above...\n",
              "981    In light of the aforesaid Order by Hon’ble SAT...\n",
              "982    In view of the abovementioned conclusion along...\n",
              "Name: context_left, Length: 1792, dtype: object>"
            ]
          },
          "metadata": {
            "tags": []
          },
          "execution_count": 21
        }
      ],
      "metadata": {
        "colab": {
          "base_uri": "https://localhost:8080/"
        },
        "id": "_XFt5lms5MoJ",
        "outputId": "af5bed96-ae6f-436d-8c31-cc8cc9ec9043"
      }
    },
    {
      "cell_type": "code",
      "execution_count": null,
      "source": [
        "#preprocessing \r\n",
        "class Classifier:\r\n",
        "  DATA_COLUMN = \"Sentence\"\r\n",
        "  CONTEXT_COLUMN_LEFT = \"context_left\"\r\n",
        "  CONTEXT_COLUMN_RIGHT = \"context_right\"\r\n",
        "  LABEL_COLUMN = \"Label\"\r\n",
        "\r\n",
        "  def __init__(self, train, test, tokenizer: FullTokenizer, classes, max_seq_len=192):\r\n",
        "    self.tokenizer = tokenizer\r\n",
        "    self.max_seq_len = 0\r\n",
        "    self.classes = classes\r\n",
        "    \r\n",
        "    train, test = map(lambda df: df.reindex(df[Classifier.DATA_COLUMN].str.len().sort_values().index), [train, test])\r\n",
        "  \r\n",
        "    ((self.train_x, self.train_x_context_left,  self.train_x_context_right, self.train_y), (self.test_x, self.test_x_context_left, self.test_x_context_right , self.test_y)) = map(self._prepare, [train, test])\r\n",
        "\r\n",
        "    print(\"max seq_len\", self.max_seq_len)\r\n",
        "    self.max_seq_len = min(self.max_seq_len, max_seq_len)\r\n",
        "    self.train_x, self.test_x = map(self._pad, [self.train_x, self.test_x])\r\n",
        "    self.train_x_context_left, self.test_x_context_left = map(self._pad, [self.train_x_context_left, self.test_x_context_left])\r\n",
        "    self.train_x_context_right, self.test_x_context_right = map(self._pad, [self.train_x_context_right, self.test_x_context_right])\r\n",
        "\r\n",
        "  def _prepare(self, df):\r\n",
        "    x, y = [], []\r\n",
        "    context_x_left, context_x_right = [] , []\r\n",
        "\r\n",
        "    try:\r\n",
        "      print(f\"columns in the df {df.columns}\")\r\n",
        "      for _, row in tqdm(df.iterrows()):\r\n",
        "        text,context_left, context_right , label = row[Classifier.DATA_COLUMN], row[Classifier.CONTEXT_COLUMN_LEFT], row[Classifier.CONTEXT_COLUMN_RIGHT],row[Classifier.LABEL_COLUMN]\r\n",
        "        tokens = self.tokenizer.tokenize(text)\r\n",
        "        context_tokens_left = self.tokenizer.tokenize(context_left)\r\n",
        "        context_tokens_right = self.tokenizer.tokenize(context_right)\r\n",
        "        tokens = [\"[CLS]\"] + tokens + [\"[SEP]\"]\r\n",
        "        context_tokens_left = [\"[CLS]\"] + context_tokens_left + [\"[SEP]\"]\r\n",
        "        context_tokens_right = [\"[CLS]\"] + context_tokens_right + [\"[SEP]\"]\r\n",
        "        token_ids = self.tokenizer.convert_tokens_to_ids(tokens)\r\n",
        "        context_token_ids_left = self.tokenizer.convert_tokens_to_ids(context_tokens_left)\r\n",
        "        context_token_ids_right = self.tokenizer.convert_tokens_to_ids(context_tokens_right)\r\n",
        "        self.max_seq_len = max(self.max_seq_len, len(context_token_ids_left),len(context_tokens_right))\r\n",
        "        x.append(token_ids)\r\n",
        "        context_x_left.append(context_token_ids_left)\r\n",
        "        context_x_right.append(context_token_ids_right)\r\n",
        "        y.append(self.classes.index(label))\r\n",
        "    except Exception:\r\n",
        "      print(row)\r\n",
        "      pass\r\n",
        "\r\n",
        "    return np.array(x), np.array(context_x_left),np.array(context_x_right),np.array(y)\r\n",
        "\r\n",
        "  def _pad(self, ids):\r\n",
        "    x = []\r\n",
        "    context_x_left, context_x_right = [], []\r\n",
        "    for input_ids in ids:\r\n",
        "      input_ids = input_ids[:min(len(input_ids), self.max_seq_len - 2)]\r\n",
        "      input_ids = input_ids + [0] * (self.max_seq_len - len(input_ids))\r\n",
        "      x.append(np.array(input_ids))\r\n",
        "    return np.array(x)"
      ],
      "outputs": [],
      "metadata": {
        "id": "kdaYjou3wkHk"
      }
    },
    {
      "cell_type": "code",
      "execution_count": null,
      "source": [
        "\r\n",
        "data = Classifier(train_data, test_data, tokenizer, classes, max_seq_len=512)\r\n"
      ],
      "outputs": [
        {
          "output_type": "stream",
          "name": "stderr",
          "text": [
            "47it [00:00, 463.69it/s]"
          ]
        },
        {
          "output_type": "stream",
          "name": "stdout",
          "text": [
            "columns in the df Index(['Label', 'Sentence', 'context_left', 'context_right'], dtype='object')\n"
          ]
        },
        {
          "output_type": "stream",
          "name": "stderr",
          "text": [
            "1792it [00:05, 337.56it/s]\n",
            "/usr/local/lib/python3.7/dist-packages/ipykernel_launcher.py:49: VisibleDeprecationWarning: Creating an ndarray from ragged nested sequences (which is a list-or-tuple of lists-or-tuples-or ndarrays with different lengths or shapes) is deprecated. If you meant to do this, you must specify 'dtype=object' when creating the ndarray\n",
            "45it [00:00, 446.97it/s]"
          ]
        },
        {
          "output_type": "stream",
          "name": "stdout",
          "text": [
            "columns in the df Index(['Label', 'Sentence', 'context_left', 'context_right'], dtype='object')\n"
          ]
        },
        {
          "output_type": "stream",
          "name": "stderr",
          "text": [
            "472it [00:01, 328.54it/s]\n"
          ]
        },
        {
          "output_type": "stream",
          "name": "stdout",
          "text": [
            "max seq_len 308\n"
          ]
        }
      ],
      "metadata": {
        "colab": {
          "base_uri": "https://localhost:8080/"
        },
        "id": "vapG_qiI1DD_",
        "outputId": "d611affe-63a9-40b5-dd13-6b3e4dbd36b3"
      }
    },
    {
      "cell_type": "code",
      "execution_count": null,
      "source": [
        "def create_model(max_seq_len, bert_ckpt_file):\r\n",
        "\r\n",
        "  with tf.io.gfile.GFile(bert_config_file, \"r\") as reader:\r\n",
        "      bc = StockBertConfig.from_json_string(reader.read())\r\n",
        "      bert_params = map_stock_config_to_params(bc)\r\n",
        "      bert_params.adapter_size = None\r\n",
        "      bert = BertModelLayer.from_params(bert_params, name=\"bert\")\r\n",
        "        \r\n",
        "  input_ids = keras.layers.Input(shape=(max_seq_len, ), dtype='int32', name=\"input_ids\")\r\n",
        "  input_context_ids_left = keras.layers.Input(shape=(max_seq_len,), dtype='int32',name='input_context_ids_left')\r\n",
        "  input_context_ids_right = keras.layers.Input(shape=(max_seq_len, ), dtype='int32', name=\"input_context_ids_right\")\r\n",
        "  bert_output = bert(input_ids)\r\n",
        "  bert_context_output_left = bert(input_context_ids_left)\r\n",
        "  bert_context_output_right = bert(input_context_ids_right)\r\n",
        "\r\n",
        "\r\n",
        "  print(\"bert shape\", bert_output.shape)\r\n",
        "\r\n",
        "  cls_out = keras.layers.Lambda(lambda seq: seq[:,0,:])(bert_output)\r\n",
        "  cls_out = keras.layers.Dropout(0.5)(cls_out)\r\n",
        "  \r\n",
        "  cls_out_context_left = keras.layers.Lambda(lambda seq: keras.backend.mean(seq,axis=1))(bert_context_output_left)\r\n",
        "  cls_out_context_left = keras.layers.Dropout(0.5)(cls_out_context_left)\r\n",
        "\r\n",
        "  cls_out_context_right = keras.layers.Lambda(lambda seq: keras.backend.mean(seq,axis=1))(bert_context_output_right)\r\n",
        "  cls_out_context_right = keras.layers.Dropout(0.5)(cls_out_context_right)\r\n",
        "\r\n",
        "  cls_out_concat = keras.layers.Concatenate()([cls_out_context_left,cls_out,cls_out_context_right])\r\n",
        "  logits = keras.layers.Dense(units=2304, activation=\"tanh\")(cls_out_concat)\r\n",
        "  logits = keras.layers.Dropout(0.5)(logits)\r\n",
        "  logits = keras.layers.Dense(units=len(classes), activation=\"softmax\")(logits)\r\n",
        "\r\n",
        "  model = keras.Model(inputs=[input_ids,input_context_ids_left,input_context_ids_right], outputs=logits)\r\n",
        "  model.build(input_shape=(None, max_seq_len))\r\n",
        "\r\n",
        "  load_stock_weights(bert, bert_ckpt_file)\r\n",
        "        \r\n",
        "  return model"
      ],
      "outputs": [],
      "metadata": {
        "id": "S6Hk7tL-1K-R"
      }
    },
    {
      "cell_type": "code",
      "execution_count": null,
      "source": [
        "model = create_model(data.max_seq_len, bert_ckpt_file)"
      ],
      "outputs": [
        {
          "output_type": "stream",
          "name": "stdout",
          "text": [
            "bert shape (None, 308, 768)\n",
            "Done loading 196 BERT weights from: model/uncased_L-12_H-768_A-12/bert_model.ckpt into <bert.model.BertModelLayer object at 0x7f9a356ec610> (prefix:bert). Count of weights not found in the checkpoint was: [0]. Count of weights with mismatched shape: [0]\n",
            "Unused weights from checkpoint: \n",
            "\tbert/embeddings/token_type_embeddings\n",
            "\tbert/pooler/dense/bias\n",
            "\tbert/pooler/dense/kernel\n",
            "\tcls/predictions/output_bias\n",
            "\tcls/predictions/transform/LayerNorm/beta\n",
            "\tcls/predictions/transform/LayerNorm/gamma\n",
            "\tcls/predictions/transform/dense/bias\n",
            "\tcls/predictions/transform/dense/kernel\n",
            "\tcls/seq_relationship/output_bias\n",
            "\tcls/seq_relationship/output_weights\n"
          ]
        }
      ],
      "metadata": {
        "colab": {
          "base_uri": "https://localhost:8080/"
        },
        "id": "ZsN-fi-SHAMQ",
        "outputId": "b9987047-5119-460c-a654-f06a54debc98"
      }
    },
    {
      "cell_type": "code",
      "execution_count": null,
      "source": [
        "model.summary()"
      ],
      "outputs": [
        {
          "output_type": "stream",
          "name": "stdout",
          "text": [
            "Model: \"model\"\n",
            "__________________________________________________________________________________________________\n",
            "Layer (type)                    Output Shape         Param #     Connected to                     \n",
            "==================================================================================================\n",
            "input_context_ids_left (InputLa [(None, 308)]        0                                            \n",
            "__________________________________________________________________________________________________\n",
            "input_ids (InputLayer)          [(None, 308)]        0                                            \n",
            "__________________________________________________________________________________________________\n",
            "input_context_ids_right (InputL [(None, 308)]        0                                            \n",
            "__________________________________________________________________________________________________\n",
            "bert (BertModelLayer)           (None, 308, 768)     108890112   input_ids[0][0]                  \n",
            "                                                                 input_context_ids_left[0][0]     \n",
            "                                                                 input_context_ids_right[0][0]    \n",
            "__________________________________________________________________________________________________\n",
            "lambda_4 (Lambda)               (None, 768)          0           bert[1][0]                       \n",
            "__________________________________________________________________________________________________\n",
            "lambda_3 (Lambda)               (None, 768)          0           bert[0][0]                       \n",
            "__________________________________________________________________________________________________\n",
            "lambda_5 (Lambda)               (None, 768)          0           bert[2][0]                       \n",
            "__________________________________________________________________________________________________\n",
            "dropout_5 (Dropout)             (None, 768)          0           lambda_4[0][0]                   \n",
            "__________________________________________________________________________________________________\n",
            "dropout_4 (Dropout)             (None, 768)          0           lambda_3[0][0]                   \n",
            "__________________________________________________________________________________________________\n",
            "dropout_6 (Dropout)             (None, 768)          0           lambda_5[0][0]                   \n",
            "__________________________________________________________________________________________________\n",
            "concatenate_1 (Concatenate)     (None, 2304)         0           dropout_5[0][0]                  \n",
            "                                                                 dropout_4[0][0]                  \n",
            "                                                                 dropout_6[0][0]                  \n",
            "__________________________________________________________________________________________________\n",
            "dense_2 (Dense)                 (None, 2304)         5310720     concatenate_1[0][0]              \n",
            "__________________________________________________________________________________________________\n",
            "dropout_7 (Dropout)             (None, 2304)         0           dense_2[0][0]                    \n",
            "__________________________________________________________________________________________________\n",
            "dense_3 (Dense)                 (None, 10)           23050       dropout_7[0][0]                  \n",
            "==================================================================================================\n",
            "Total params: 114,223,882\n",
            "Trainable params: 114,223,882\n",
            "Non-trainable params: 0\n",
            "__________________________________________________________________________________________________\n"
          ]
        }
      ],
      "metadata": {
        "colab": {
          "base_uri": "https://localhost:8080/"
        },
        "id": "pJcOgrQzHC4u",
        "outputId": "4bfc375d-4027-4b46-ede5-f52eb0073690"
      }
    },
    {
      "cell_type": "code",
      "execution_count": null,
      "source": [
        "model.compile(\r\n",
        "  optimizer=keras.optimizers.Adam(1e-5),\r\n",
        "  loss=keras.losses.SparseCategoricalCrossentropy(from_logits=True),\r\n",
        "  metrics=[keras.metrics.SparseCategoricalAccuracy(name=\"acc\")]\r\n",
        ")"
      ],
      "outputs": [],
      "metadata": {
        "id": "5OBZeZfkHWCf"
      }
    },
    {
      "cell_type": "code",
      "execution_count": null,
      "source": [
        "\r\n",
        "logdir=\"logs/fit/\" + datetime.now().strftime(\"%Y%m%d-%H%M%S\")\r\n"
      ],
      "outputs": [],
      "metadata": {
        "id": "vjvShFBEHlKS"
      }
    },
    {
      "cell_type": "code",
      "execution_count": null,
      "source": [
        "\r\n",
        "my_callbacks = [EarlyStopping(patience=2, monitor=\"val_loss\"),  ModelCheckpoint(filepath='model_{epoch:02d}.hdf5', save_best_only=True, save_weights_only = False, monitor='val_loss', mode='auto',save_freq = 'epoch'),keras.callbacks.TensorBoard(log_dir=logdir)]\r\n",
        "\r\n"
      ],
      "outputs": [
        {
          "output_type": "stream",
          "name": "stdout",
          "text": [
            "2.4.1\n"
          ]
        }
      ],
      "metadata": {
        "colab": {
          "base_uri": "https://localhost:8080/"
        },
        "id": "XtQyuF7UHm54",
        "outputId": "238a813b-6c20-4c94-b499-03e76a87dcce"
      }
    },
    {
      "cell_type": "code",
      "execution_count": null,
      "source": [
        "data.train_x_context_left"
      ],
      "outputs": [],
      "metadata": {
        "id": "KQ584UIGHwi1"
      }
    },
    {
      "cell_type": "code",
      "execution_count": null,
      "source": [
        "\r\n",
        "history = model.fit(\r\n",
        "  x=[data.train_x,data.train_x_context_left,data.train_x_context_right], \r\n",
        "  y= data.train_y,\r\n",
        "  validation_split=0.1,\r\n",
        "  batch_size=8,\r\n",
        "  shuffle=True,\r\n",
        "  epochs = 20,\r\n",
        "  callbacks = my_callbacks\r\n",
        ")"
      ],
      "outputs": [
        {
          "output_type": "stream",
          "name": "stdout",
          "text": [
            "Epoch 1/20\n",
            "202/202 [==============================] - 391s 2s/step - loss: 2.1064 - acc: 0.2382 - val_loss: 2.4323 - val_acc: 0.1611\n",
            "Epoch 2/20\n",
            "202/202 [==============================] - 387s 2s/step - loss: 1.6593 - acc: 0.4138 - val_loss: 1.2324 - val_acc: 0.6111\n",
            "Epoch 3/20\n",
            "202/202 [==============================] - 387s 2s/step - loss: 1.0981 - acc: 0.6303 - val_loss: 0.8942 - val_acc: 0.7167\n",
            "Epoch 4/20\n",
            "202/202 [==============================] - 387s 2s/step - loss: 0.7543 - acc: 0.7500 - val_loss: 0.4798 - val_acc: 0.8667\n",
            "Epoch 5/20\n",
            "202/202 [==============================] - 387s 2s/step - loss: 0.4862 - acc: 0.8387 - val_loss: 0.4344 - val_acc: 0.8778\n",
            "Epoch 6/20\n",
            "202/202 [==============================] - 387s 2s/step - loss: 0.3436 - acc: 0.8914 - val_loss: 0.4742 - val_acc: 0.8556\n",
            "Epoch 7/20\n",
            "202/202 [==============================] - 386s 2s/step - loss: 0.2358 - acc: 0.9262 - val_loss: 0.4340 - val_acc: 0.8889\n",
            "Epoch 8/20\n",
            "202/202 [==============================] - 387s 2s/step - loss: 0.1696 - acc: 0.9522 - val_loss: 0.4034 - val_acc: 0.8722\n",
            "Epoch 9/20\n",
            "202/202 [==============================] - 387s 2s/step - loss: 0.1235 - acc: 0.9690 - val_loss: 0.4141 - val_acc: 0.8833\n",
            "Epoch 10/20\n",
            "202/202 [==============================] - 387s 2s/step - loss: 0.1095 - acc: 0.9659 - val_loss: 0.3357 - val_acc: 0.9056\n",
            "Epoch 11/20\n",
            "202/202 [==============================] - 388s 2s/step - loss: 0.1071 - acc: 0.9684 - val_loss: 0.5162 - val_acc: 0.8833\n",
            "Epoch 12/20\n",
            "202/202 [==============================] - 387s 2s/step - loss: 0.0855 - acc: 0.9733 - val_loss: 0.4260 - val_acc: 0.9056\n"
          ]
        }
      ],
      "metadata": {
        "colab": {
          "base_uri": "https://localhost:8080/"
        },
        "id": "hXEV2arlHo07",
        "outputId": "c19012aa-6d59-440c-e46a-1bcb4fca7281"
      }
    },
    {
      "cell_type": "code",
      "execution_count": null,
      "source": [
        "_, train_acc = model.evaluate([data.train_x,data.train_x_context_left,data.train_x_context_right], data.train_y)\r\n",
        "_, test_acc = model.evaluate([data.test_x,data.test_x_context_left,data.test_x_context_right], data.test_y)\r\n",
        "\r\n",
        "print(\"train acc\", train_acc)\r\n",
        "print(\"test acc\", test_acc)"
      ],
      "outputs": [
        {
          "output_type": "stream",
          "name": "stdout",
          "text": [
            "56/56 [==============================] - 128s 2s/step - loss: 0.0810 - acc: 0.9766\n",
            "15/15 [==============================] - 33s 2s/step - loss: 1.1212 - acc: 0.7775\n",
            "train acc 0.9765625\n",
            "test acc 0.7775423526763916\n"
          ]
        }
      ],
      "metadata": {
        "colab": {
          "base_uri": "https://localhost:8080/"
        },
        "id": "WHwIWCjxV037",
        "outputId": "f3fb6761-2e95-42d9-9895-dff9e15e6541"
      }
    },
    {
      "cell_type": "code",
      "execution_count": null,
      "source": [
        "y_pred = model.predict([data.test_x,data.test_x_context_left,data.test_x_context_right]).argmax(axis=-1)\r\n"
      ],
      "outputs": [],
      "metadata": {
        "id": "IgBhI6pfHtdq"
      }
    },
    {
      "cell_type": "code",
      "execution_count": null,
      "source": [
        "print(classification_report(data.test_y, y_pred, target_names=classes))\r\n"
      ],
      "outputs": [
        {
          "output_type": "stream",
          "name": "stdout",
          "text": [
            "                        precision    recall  f1-score   support\n",
            "\n",
            "         material fact       0.78      0.71      0.74       113\n",
            "        statutory fact       0.83      0.97      0.89        39\n",
            "            allegation       0.62      0.76      0.68        17\n",
            "             violation       1.00      0.14      0.25         7\n",
            "       procedural fact       0.97      0.93      0.95        67\n",
            "subjective observation       0.61      0.86      0.72        59\n",
            "       defendant claim       0.80      0.73      0.77       123\n",
            "         issues framed       1.00      0.90      0.95        20\n",
            "          related fact       0.42      0.44      0.43        18\n",
            "               penalty       1.00      0.67      0.80         9\n",
            "\n",
            "              accuracy                           0.78       472\n",
            "             macro avg       0.80      0.71      0.72       472\n",
            "          weighted avg       0.79      0.78      0.78       472\n",
            "\n"
          ]
        }
      ],
      "metadata": {
        "colab": {
          "base_uri": "https://localhost:8080/"
        },
        "id": "4JfgiWqbalgq",
        "outputId": "bc2984da-c177-4e63-a0c4-b1e9a5047660"
      }
    },
    {
      "cell_type": "code",
      "execution_count": null,
      "source": [
        "cm = confusion_matrix(y_true=data.test_y, y_pred= y_pred)\r\n",
        "\r\n"
      ],
      "outputs": [],
      "metadata": {
        "id": "a2xkyASSaokK"
      }
    },
    {
      "cell_type": "code",
      "execution_count": null,
      "source": [
        "#!mv '/content/model_10_context_3_representation.hdf5' '/content/drive/MyDrive/SEBI /best_models/context_models'"
      ],
      "outputs": [],
      "metadata": {
        "id": "pfcEFSY7a0-J"
      }
    },
    {
      "cell_type": "code",
      "execution_count": null,
      "source": [
        "#!zip -r './logs_context_3_representation.zip' '/content/logs_context_3_representation'"
      ],
      "outputs": [
        {
          "output_type": "stream",
          "name": "stdout",
          "text": [
            "  adding: content/logs_context_3_representation/ (stored 0%)\n",
            "  adding: content/logs_context_3_representation/fit/ (stored 0%)\n",
            "  adding: content/logs_context_3_representation/fit/20210416-143829/ (stored 0%)\n",
            "  adding: content/logs_context_3_representation/fit/20210416-143829/validation/ (stored 0%)\n",
            "  adding: content/logs_context_3_representation/fit/20210416-143829/validation/events.out.tfevents.1618584451.3e02655231b1.57.80274.v2 (deflated 55%)\n",
            "  adding: content/logs_context_3_representation/fit/20210416-143829/train/ (stored 0%)\n",
            "  adding: content/logs_context_3_representation/fit/20210416-143829/train/events.out.tfevents.1618583991.3e02655231b1.57.24067.v2 (deflated 76%)\n",
            "  adding: content/logs_context_3_representation/fit/20210416-143829/train/events.out.tfevents.1618584086.3e02655231b1.profile-empty (deflated 5%)\n",
            "  adding: content/logs_context_3_representation/fit/20210416-143829/train/events.out.tfevents.1618584081.3e02655231b1.57.79767.v2 (deflated 93%)\n",
            "  adding: content/logs_context_3_representation/fit/20210416-143829/train/plugins/ (stored 0%)\n",
            "  adding: content/logs_context_3_representation/fit/20210416-143829/train/plugins/profile/ (stored 0%)\n",
            "  adding: content/logs_context_3_representation/fit/20210416-143829/train/plugins/profile/2021_04_16_14_41_26/ (stored 0%)\n",
            "  adding: content/logs_context_3_representation/fit/20210416-143829/train/plugins/profile/2021_04_16_14_41_26/3e02655231b1.xplane.pb (deflated 81%)\n",
            "  adding: content/logs_context_3_representation/fit/20210416-143829/train/plugins/profile/2021_04_16_14_41_26/3e02655231b1.tensorflow_stats.pb (deflated 77%)\n",
            "  adding: content/logs_context_3_representation/fit/20210416-143829/train/plugins/profile/2021_04_16_14_41_26/3e02655231b1.kernel_stats.pb (deflated 95%)\n",
            "  adding: content/logs_context_3_representation/fit/20210416-143829/train/plugins/profile/2021_04_16_14_41_26/3e02655231b1.overview_page.pb (deflated 61%)\n",
            "  adding: content/logs_context_3_representation/fit/20210416-143829/train/plugins/profile/2021_04_16_14_41_26/3e02655231b1.memory_profile.json.gz (deflated 0%)\n",
            "  adding: content/logs_context_3_representation/fit/20210416-143829/train/plugins/profile/2021_04_16_14_41_26/3e02655231b1.trace.json.gz (deflated 2%)\n",
            "  adding: content/logs_context_3_representation/fit/20210416-143829/train/plugins/profile/2021_04_16_14_41_26/3e02655231b1.input_pipeline.pb (deflated 55%)\n"
          ]
        }
      ],
      "metadata": {
        "colab": {
          "base_uri": "https://localhost:8080/"
        },
        "id": "9fk--wjCcEzg",
        "outputId": "583bb3fa-bda3-48fb-954e-77f6640f4d5d"
      }
    },
    {
      "cell_type": "code",
      "execution_count": null,
      "source": [
        "#!mv '/content/logs_context_3_representation.zip' '/content/drive/MyDrive/SEBI /best_models/context_models'"
      ],
      "outputs": [],
      "metadata": {
        "id": "j_M4jRUocVkB"
      }
    },
    {
      "cell_type": "code",
      "execution_count": null,
      "source": [
        "%load_ext tensorboard"
      ],
      "outputs": [],
      "metadata": {
        "id": "wPY4r5gmccV6"
      }
    },
    {
      "cell_type": "code",
      "execution_count": null,
      "source": [
        "%tensorboard --logdir logs_context_3_representation"
      ],
      "outputs": [],
      "metadata": {
        "id": "4vRVVnY9czRJ"
      }
    },
    {
      "cell_type": "code",
      "execution_count": null,
      "source": [
        "# reload the model "
      ],
      "outputs": [],
      "metadata": {
        "id": "DGVp16n5c3Y8"
      }
    },
    {
      "cell_type": "code",
      "execution_count": null,
      "source": [
        "model = tf.keras.models.load_model('/content/drive/MyDrive/SEBI /best_models/context_models/model_10_context_3_representation.hdf5',custom_objects={\"BertModelLayer\": bert.BertModelLayer})"
      ],
      "outputs": [],
      "metadata": {
        "id": "ALL0iev_it-h"
      }
    },
    {
      "cell_type": "code",
      "execution_count": null,
      "source": [
        "model.summary()"
      ],
      "outputs": [
        {
          "output_type": "stream",
          "name": "stdout",
          "text": [
            "Model: \"model\"\n",
            "__________________________________________________________________________________________________\n",
            "Layer (type)                    Output Shape         Param #     Connected to                     \n",
            "==================================================================================================\n",
            "input_context_ids_left (InputLa [(None, 308)]        0                                            \n",
            "__________________________________________________________________________________________________\n",
            "input_ids (InputLayer)          [(None, 308)]        0                                            \n",
            "__________________________________________________________________________________________________\n",
            "input_context_ids_right (InputL [(None, 308)]        0                                            \n",
            "__________________________________________________________________________________________________\n",
            "bert (BertModelLayer)           (None, 308, 768)     108890112   input_ids[0][0]                  \n",
            "                                                                 input_context_ids_left[0][0]     \n",
            "                                                                 input_context_ids_right[0][0]    \n",
            "__________________________________________________________________________________________________\n",
            "lambda_4 (Lambda)               (None, 768)          0           bert[1][0]                       \n",
            "__________________________________________________________________________________________________\n",
            "lambda_3 (Lambda)               (None, 768)          0           bert[0][0]                       \n",
            "__________________________________________________________________________________________________\n",
            "lambda_5 (Lambda)               (None, 768)          0           bert[2][0]                       \n",
            "__________________________________________________________________________________________________\n",
            "dropout_5 (Dropout)             (None, 768)          0           lambda_4[0][0]                   \n",
            "__________________________________________________________________________________________________\n",
            "dropout_4 (Dropout)             (None, 768)          0           lambda_3[0][0]                   \n",
            "__________________________________________________________________________________________________\n",
            "dropout_6 (Dropout)             (None, 768)          0           lambda_5[0][0]                   \n",
            "__________________________________________________________________________________________________\n",
            "concatenate_1 (Concatenate)     (None, 2304)         0           dropout_5[0][0]                  \n",
            "                                                                 dropout_4[0][0]                  \n",
            "                                                                 dropout_6[0][0]                  \n",
            "__________________________________________________________________________________________________\n",
            "dense_2 (Dense)                 (None, 2304)         5310720     concatenate_1[0][0]              \n",
            "__________________________________________________________________________________________________\n",
            "dropout_7 (Dropout)             (None, 2304)         0           dense_2[0][0]                    \n",
            "__________________________________________________________________________________________________\n",
            "dense_3 (Dense)                 (None, 10)           23050       dropout_7[0][0]                  \n",
            "==================================================================================================\n",
            "Total params: 114,223,882\n",
            "Trainable params: 114,223,882\n",
            "Non-trainable params: 0\n",
            "__________________________________________________________________________________________________\n"
          ]
        }
      ],
      "metadata": {
        "colab": {
          "base_uri": "https://localhost:8080/"
        },
        "id": "-QDevHUCjbIq",
        "outputId": "b8e1f749-1efe-4495-f910-bc765e223ba1"
      }
    },
    {
      "cell_type": "code",
      "execution_count": null,
      "source": [
        "_, test_acc = model.evaluate([data.test_x,data.test_x_context_left,data.test_x_context_right], data.test_y)\r\n"
      ],
      "outputs": [
        {
          "output_type": "stream",
          "name": "stdout",
          "text": [
            "15/15 [==============================] - 75s 4s/step - loss: 1.0491 - acc: 0.7627\n"
          ]
        }
      ],
      "metadata": {
        "colab": {
          "base_uri": "https://localhost:8080/"
        },
        "id": "ayMZNx28iv_9",
        "outputId": "33b08482-9692-47a9-8b59-c5f577ee6f02"
      }
    },
    {
      "cell_type": "code",
      "execution_count": null,
      "source": [
        "test_acc"
      ],
      "outputs": [
        {
          "output_type": "execute_result",
          "data": {
            "text/plain": [
              "0.7627118825912476"
            ]
          },
          "metadata": {
            "tags": []
          },
          "execution_count": 28
        }
      ],
      "metadata": {
        "colab": {
          "base_uri": "https://localhost:8080/"
        },
        "id": "tD3x8g1KjtJe",
        "outputId": "a720b63a-ecc3-4148-e5e4-14e9854290e0"
      }
    },
    {
      "cell_type": "code",
      "execution_count": null,
      "source": [
        "y_pred = model.predict([data.test_x,data.test_x_context_left,data.test_x_context_right]).argmax(axis=-1)\r\n"
      ],
      "outputs": [],
      "metadata": {
        "id": "i43y-d1fi5tZ"
      }
    },
    {
      "cell_type": "code",
      "execution_count": null,
      "source": [
        "cm = confusion_matrix(y_true=data.test_y, y_pred= y_pred)\r\n"
      ],
      "outputs": [],
      "metadata": {
        "id": "g-ip97Gki61m"
      }
    },
    {
      "cell_type": "code",
      "execution_count": null,
      "source": [
        "import numpy as np\r\n",
        "import matplotlib.pyplot as plt\r\n",
        "\r\n",
        "\r\n",
        "height, width = cm.shape\r\n",
        "print(height)\r\n",
        "print(width)\r\n",
        "\r\n",
        "fig = plt.figure('confusion matrix')\r\n",
        "ax = fig.add_subplot(111, aspect='equal')\r\n",
        "for x in range(height):\r\n",
        "    rowsum = 0\r\n",
        "    for y in range(width):\r\n",
        "      if x == y:\r\n",
        "        ax.annotate(str(cm[width-x-1][height-y-1]), xy=(y, x), ha='center', va='center',backgroundcolor='#ADD8E6')\r\n",
        "        rowsum += cm[width-x-1][height-y-1]\r\n",
        "      else:\r\n",
        "        ax.annotate(str(cm[width-x-1][height-y-1]), xy=(y, x), ha='center', va='center')\r\n",
        "        rowsum += cm[width-x-1][height-y-1] \r\n",
        "    #print(f'row {x} sum is {rowsum}')\r\n",
        "    for y in range(width):\r\n",
        "      if x == y:\r\n",
        "        pass\r\n",
        "      elif cm[width-x-1][height-y-1] > int(0.1*rowsum):\r\n",
        "        ax.annotate(str(cm[width-x-1][height-y-1]), xy=(y, x), ha='center', va='center',backgroundcolor='#ffcccb')\r\n",
        "    \r\n",
        "\r\n",
        "offset = .5    \r\n",
        "ax.set_xlim(-offset, width - offset)\r\n",
        "ax.set_ylim(-offset, height - offset)\r\n",
        "\r\n",
        "ax.hlines(y=np.arange(height+1)- offset, xmin=-offset, xmax=width-offset)\r\n",
        "ax.vlines(x=np.arange(width+1) - offset, ymin=-offset, ymax=height-offset)\r\n",
        "\r\n",
        "\r\n",
        "\r\n",
        "plt.xticks(range(width), classes,rotation=90)\r\n",
        "plt.yticks(range(height), classes)\r\n",
        "plt.savefig('confusion_matrix.png', format='png')"
      ],
      "outputs": [
        {
          "output_type": "stream",
          "name": "stdout",
          "text": [
            "10\n",
            "10\n"
          ]
        },
        {
          "output_type": "display_data",
          "data": {
            "text/plain": [
              "<Figure size 432x288 with 1 Axes>"
            ],
            "image/png": "[encoded data removed]"
          },
          "metadata": {
            "tags": [],
            "needs_background": "light"
          }
        }
      ],
      "metadata": {
        "colab": {
          "base_uri": "https://localhost:8080/",
          "height": 404
        },
        "id": "ffUMItg-kS3X",
        "outputId": "842f6409-9497-4ab6-df51-5a34817d127b"
      }
    },
    {
      "cell_type": "code",
      "execution_count": null,
      "source": [],
      "outputs": [],
      "metadata": {
        "id": "0Uj9lnoLlYaJ"
      }
    }
  ]
}